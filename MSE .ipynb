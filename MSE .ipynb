{
 "cells": [
  {
   "cell_type": "markdown",
   "id": "92223166-751c-41ce-87cd-b6080e7727f6",
   "metadata": {},
   "source": [
    "### fact recursion"
   ]
  },
  {
   "cell_type": "code",
   "execution_count": 5,
   "id": "3057d539-d569-4f91-841e-8ef05a9fdc5a",
   "metadata": {},
   "outputs": [
    {
     "name": "stdin",
     "output_type": "stream",
     "text": [
      "enter the number for fact 5\n"
     ]
    },
    {
     "name": "stdout",
     "output_type": "stream",
     "text": [
      "The factorial of 5 is:- 120\n"
     ]
    }
   ],
   "source": [
    "def factorial(num):\n",
    "    if num == 0:\n",
    "        return 1 \n",
    "    else:\n",
    "        return num*factorial(num-1)\n",
    "\n",
    "n = int(input(\"enter the number for fact\"))\n",
    "fact = factorial(n)\n",
    "print(f\"The factorial of {n} is:-\",fact)"
   ]
  },
  {
   "cell_type": "markdown",
   "id": "dc70ad81-3e2a-4c8c-bb69-146c67584a0e",
   "metadata": {},
   "source": [
    "### Binary recursion (fibonnacci)"
   ]
  },
  {
   "cell_type": "code",
   "execution_count": 15,
   "id": "f3ddb070-520d-4cd7-882e-aca64fe5bb16",
   "metadata": {},
   "outputs": [
    {
     "name": "stdin",
     "output_type": "stream",
     "text": [
      "Enter the fibo position 3\n"
     ]
    },
    {
     "name": "stdout",
     "output_type": "stream",
     "text": [
      "fibonnaci number at position 3 is 1\n"
     ]
    }
   ],
   "source": [
    "def fibo(n):\n",
    "    if n<1:\n",
    "        return -1\n",
    "    elif n == 1: \n",
    "        return 0\n",
    "    elif n == 2 :\n",
    "        return 1\n",
    "    else:\n",
    "       return fibo(n-1) + fibo(n-2)\n",
    "\n",
    "n = int(input(\"Enter the fibo position\"))\n",
    "print(f\"fibonnaci number at position {n} is {fibo(n)}\")\n"
   ]
  },
  {
   "cell_type": "markdown",
   "id": "2b8789c2-1812-4f2a-9152-dd08a2ee7484",
   "metadata": {},
   "source": [
    "### Mutual recursion"
   ]
  },
  {
   "cell_type": "code",
   "execution_count": 13,
   "id": "53db2aac-dbe4-47ec-8e56-4cf7e6d762a3",
   "metadata": {},
   "outputs": [
    {
     "name": "stdout",
     "output_type": "stream",
     "text": [
      "True\n",
      "True\n"
     ]
    }
   ],
   "source": [
    "def iseven(n):\n",
    "    if n == 0:\n",
    "        return True \n",
    "    return isodd(n-1)\n",
    "\n",
    "def isodd(n):\n",
    "    if n== 0:\n",
    "        return False\n",
    "    return iseven(n-1)\n",
    "\n",
    "print(iseven(2))\n",
    "print(isodd(7))"
   ]
  },
  {
   "cell_type": "markdown",
   "id": "df19ca25-1ad6-45a7-8628-5e58e39d617c",
   "metadata": {},
   "source": [
    "### Tower of hanoi"
   ]
  },
  {
   "cell_type": "code",
   "execution_count": 17,
   "id": "2ca6e4c4-a9c0-4c5c-b6cd-7f98a43dab54",
   "metadata": {},
   "outputs": [
    {
     "name": "stdout",
     "output_type": "stream",
     "text": [
      "its moved from A to C\n",
      "its moved from A to B\n",
      "its moved from C to B\n",
      "its moved from A to C\n",
      "its moved from B to A\n",
      "its moved from B to C\n",
      "its moved from A to C\n"
     ]
    }
   ],
   "source": [
    "def toh(n,src,aux,des):\n",
    "    if n ==1 :\n",
    "        print(f\"its moved from {src} to {des}\")\n",
    "        return\n",
    "    toh(n-1,src,des,aux)\n",
    "    print(f\"its moved from {src} to {des}\")\n",
    "    toh(n-1,aux,src,des)\n",
    "\n",
    "toh(3,\"A\",\"B\",\"C\")"
   ]
  },
  {
   "cell_type": "markdown",
   "id": "dfeec125-c051-45b2-9588-06ca0008bcd1",
   "metadata": {},
   "source": [
    "### Transpose of matrix "
   ]
  },
  {
   "cell_type": "code",
   "execution_count": 42,
   "id": "8cc78f9a-7ded-43b7-970b-22c48b4ea9d2",
   "metadata": {},
   "outputs": [
    {
     "name": "stdout",
     "output_type": "stream",
     "text": [
      "[1, 4]\n",
      "[2, 5]\n",
      "[3, 6]\n"
     ]
    }
   ],
   "source": [
    "def transpose(matrix):\n",
    "    return [[matrix[j][i]for j in range (len(matrix))] for i in range (len(matrix[0]))]\n",
    "\n",
    "matrix = [[1, 2, 3], \n",
    "          [4, 5, 6]]\n",
    "\n",
    "\n",
    "for row in transpose(matrix):\n",
    "    print(row)"
   ]
  },
  {
   "cell_type": "code",
   "execution_count": 54,
   "id": "dee20066-7b9c-43a9-8285-6d16d6121c9e",
   "metadata": {},
   "outputs": [
    {
     "data": {
      "text/plain": [
       "2"
      ]
     },
     "execution_count": 54,
     "metadata": {},
     "output_type": "execute_result"
    }
   ],
   "source": [
    "def euclid_gcd(m,n):\n",
    "    if n == 0 :\n",
    "        return m\n",
    "    else:\n",
    "        return euclid_gcd(n,m % n)\n",
    "\n",
    "euclid_gcd(2,4)\n"
   ]
  },
  {
   "cell_type": "markdown",
   "id": "c47682a7-798c-4215-bf52-773c59039614",
   "metadata": {},
   "source": [
    "### singly linked list "
   ]
  },
  {
   "cell_type": "code",
   "execution_count": 40,
   "id": "41a4ef2e-e593-4942-b185-a6ce1b513097",
   "metadata": {},
   "outputs": [
    {
     "name": "stdout",
     "output_type": "stream",
     "text": [
      "2 -> 3 -> None\n"
     ]
    }
   ],
   "source": [
    "class Node:\n",
    "    def __init__(self, data):\n",
    "        self.data = data\n",
    "        self.next = None\n",
    "\n",
    "class LinkedList:\n",
    "    def __init__(self):\n",
    "        self.head = None\n",
    "\n",
    "    def insert_first(self, data):\n",
    "        new_node = Node(data)  # Create a new node\n",
    "        new_node.next = self.head  # Point new node to the old head\n",
    "        self.head = new_node\n",
    "        \n",
    "    \n",
    "    def insert_last(self,data):\n",
    "        new_node = Node(data)\n",
    "        if self.head is None:\n",
    "            self.head = new_node\n",
    "            return \n",
    "        temp1 = self.head\n",
    "        while temp1.next:\n",
    "            temp1 = temp1.next\n",
    "        temp1.next = new_node\n",
    "                \n",
    "    \n",
    "    \n",
    "    def delete_first(self):\n",
    "        if self.head is None:\n",
    "            print(\"the list is empty\")\n",
    "        if self.head.next is None:\n",
    "            self.head = None\n",
    "            return\n",
    "        self.head = self.head.next\n",
    "    \n",
    "    \n",
    "    \n",
    "    \n",
    "    def delete_last(self):\n",
    "        if self.head is None:\n",
    "            print(\"the list is empty\")\n",
    "        temp2 = self.head\n",
    "        while temp2.next.next:\n",
    "            temp2 = temp2.next\n",
    "            temp2.next = None\n",
    "            return\n",
    "            \n",
    "    \n",
    "    \n",
    "    \n",
    "    \n",
    "    \n",
    "    \n",
    "    \n",
    "    def display(self):\n",
    "        temp = self.head\n",
    "        while temp is not None:\n",
    "            print(temp.data, \"->\", end=\" \")\n",
    "            temp = temp.next\n",
    "        print(\"None\")\n",
    "\n",
    "\n",
    "\n",
    "\n",
    "\n",
    "\n",
    "\n",
    "\n",
    "\n",
    "\n",
    "\n",
    "ll = LinkedList()\n",
    "ll.insert_first(3)\n",
    "ll.insert_first(2)\n",
    "ll.insert_first(1)\n",
    "ll.insert_last(4)\n",
    "ll.delete_first()\n",
    "ll.delete_last()\n",
    "ll.display() \n",
    "\n",
    "\n",
    "    \n"
   ]
  },
  {
   "cell_type": "code",
   "execution_count": 41,
   "id": "d10fc362-13b4-4979-b270-103b8e6841b7",
   "metadata": {},
   "outputs": [
    {
     "name": "stdout",
     "output_type": "stream",
     "text": [
      "adnsjn\n",
      "adnsjn\n",
      "adnsjn\n"
     ]
    }
   ],
   "source": [
    "def toh(n, src, aux,des):\n",
    "    if n==1:\n",
    "        return\n",
    "    toh(n-1, src, des,aux)\n",
    "    print(\"adnsjn\")\n",
    "    toh(n-1, aux, src,des)\n",
    "\n",
    "toh(3,\"A\",\"B\",\"C\")"
   ]
  },
  {
   "cell_type": "code",
   "execution_count": null,
   "id": "13166b5f-94ec-42a5-aea8-d11ed7c64d71",
   "metadata": {},
   "outputs": [],
   "source": []
  },
  {
   "cell_type": "code",
   "execution_count": null,
   "id": "a8e4fb45-5819-46ae-9fc2-4df001dc9657",
   "metadata": {},
   "outputs": [],
   "source": []
  }
 ],
 "metadata": {
  "kernelspec": {
   "display_name": "Python 3 (ipykernel)",
   "language": "python",
   "name": "python3"
  },
  "language_info": {
   "codemirror_mode": {
    "name": "ipython",
    "version": 3
   },
   "file_extension": ".py",
   "mimetype": "text/x-python",
   "name": "python",
   "nbconvert_exporter": "python",
   "pygments_lexer": "ipython3",
   "version": "3.12.2"
  }
 },
 "nbformat": 4,
 "nbformat_minor": 5
}
