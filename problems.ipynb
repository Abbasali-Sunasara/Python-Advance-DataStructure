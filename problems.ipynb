{
 "cells": [
  {
   "cell_type": "markdown",
   "id": "97ec2dca-0276-47c9-86c3-978202663e51",
   "metadata": {},
   "source": [
    "### product of the remaing numbers"
   ]
  },
  {
   "cell_type": "code",
   "execution_count": 3,
   "id": "045da417-dbef-4ce8-ab70-349cc429310f",
   "metadata": {},
   "outputs": [
    {
     "name": "stdout",
     "output_type": "stream",
     "text": [
      "[120, 60, 40, 30, 24]\n"
     ]
    }
   ],
   "source": [
    "arr=[1,2,3,4,5]\n",
    "n = len(arr)\n",
    "prod_arr=[]\n",
    "for i in range(n):\n",
    "    product = 1\n",
    "    for j in range(n):\n",
    "        if j !=i:\n",
    "            product *=arr[j]\n",
    "    prod_arr.append(product)\n",
    "\n",
    "print(prod_arr)"
   ]
  },
  {
   "cell_type": "markdown",
   "id": "bb0f98ad-b693-4ada-ab99-afcbc7ab8079",
   "metadata": {},
   "source": [
    "### product of the remaing numbers(Time complexity)"
   ]
  },
  {
   "cell_type": "code",
   "execution_count": 5,
   "id": "dada0849-afb1-49f2-a36b-ff975093dc5f",
   "metadata": {},
   "outputs": [
    {
     "name": "stdout",
     "output_type": "stream",
     "text": [
      "[120, 60, 40, 30, 24]\n"
     ]
    }
   ],
   "source": [
    "arr=[1,2,3,4,5]\n",
    "total_product = 1\n",
    "\n",
    "for num in arr:\n",
    "    total_product *= num\n",
    "\n",
    "prod_arr = [total_product // num for num in arr]\n",
    "print(prod_arr)"
   ]
  },
  {
   "cell_type": "code",
   "execution_count": 6,
   "id": "d63d2bb9-af66-4ff6-8add-9c79f7e6334f",
   "metadata": {},
   "outputs": [
    {
     "data": {
      "text/plain": [
       "30.0"
      ]
     },
     "execution_count": 6,
     "metadata": {},
     "output_type": "execute_result"
    }
   ],
   "source": []
  },
  {
   "cell_type": "code",
   "execution_count": null,
   "id": "a8070946-3a29-4e61-90f3-dc96668d0e05",
   "metadata": {},
   "outputs": [],
   "source": []
  }
 ],
 "metadata": {
  "kernelspec": {
   "display_name": "Python 3 (ipykernel)",
   "language": "python",
   "name": "python3"
  },
  "language_info": {
   "codemirror_mode": {
    "name": "ipython",
    "version": 3
   },
   "file_extension": ".py",
   "mimetype": "text/x-python",
   "name": "python",
   "nbconvert_exporter": "python",
   "pygments_lexer": "ipython3",
   "version": "3.12.2"
  }
 },
 "nbformat": 4,
 "nbformat_minor": 5
}
