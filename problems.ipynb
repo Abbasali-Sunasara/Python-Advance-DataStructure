{
 "cells": [
  {
   "cell_type": "markdown",
   "id": "97ec2dca-0276-47c9-86c3-978202663e51",
   "metadata": {},
   "source": [
    "### product of the remaing numbers"
   ]
  },
  {
   "cell_type": "code",
   "execution_count": 3,
   "id": "045da417-dbef-4ce8-ab70-349cc429310f",
   "metadata": {},
   "outputs": [
    {
     "name": "stdout",
     "output_type": "stream",
     "text": [
      "[120, 60, 40, 30, 24]\n"
     ]
    }
   ],
   "source": [
    "arr=[1,2,3,4,5]\n",
    "n = len(arr)\n",
    "prod_arr=[]\n",
    "for i in range(n):\n",
    "    product = 1\n",
    "    for j in range(n):\n",
    "        if j !=i:\n",
    "            product *=arr[j]\n",
    "    prod_arr.append(product)\n",
    "\n",
    "print(prod_arr)"
   ]
  },
  {
   "cell_type": "markdown",
   "id": "bb0f98ad-b693-4ada-ab99-afcbc7ab8079",
   "metadata": {},
   "source": [
    "### product of the remaing numbers(Time complexity)"
   ]
  },
  {
   "cell_type": "code",
   "execution_count": 5,
   "id": "dada0849-afb1-49f2-a36b-ff975093dc5f",
   "metadata": {},
   "outputs": [
    {
     "name": "stdout",
     "output_type": "stream",
     "text": [
      "[120, 60, 40, 30, 24]\n"
     ]
    }
   ],
   "source": [
    "arr=[1,2,3,4,5]\n",
    "total_product = 1\n",
    "\n",
    "for num in arr:\n",
    "    total_product *= num\n",
    "\n",
    "prod_arr = [total_product // num for num in arr]\n",
    "print(prod_arr)"
   ]
  },
  {
   "cell_type": "markdown",
   "id": "45061e95-1cdf-4d96-aad8-6596ce240ab8",
   "metadata": {},
   "source": [
    "### All numbers with specific difference"
   ]
  },
  {
   "cell_type": "code",
   "execution_count": 4,
   "id": "a8070946-3a29-4e61-90f3-dc96668d0e05",
   "metadata": {},
   "outputs": [
    {
     "name": "stdout",
     "output_type": "stream",
     "text": [
      "4\n"
     ]
    }
   ],
   "source": [
    "n = 13\n",
    "d = 2\n",
    "l = 1\n",
    "h = 13\n",
    "\n",
    "while l <= h:  \n",
    "    mid = (h + l) // 2\n",
    "    sum_dig = mid // 10 + mid % 10\n",
    "    diff = mid - sum_dig\n",
    "\n",
    "    if diff <= 2:\n",
    "        l = mid + 1\n",
    "    else:\n",
    "        h = mid - 1\n",
    "\n",
    "else:\n",
    "    print(n - h)\n"
   ]
  },
  {
   "cell_type": "markdown",
   "id": "e7d55e5d-0b28-48cc-b698-e84d9cd01cb1",
   "metadata": {},
   "source": [
    "### Last index of one"
   ]
  },
  {
   "cell_type": "code",
   "execution_count": 2,
   "id": "a254dea2-3164-43ce-9db1-fc5c5d13795e",
   "metadata": {},
   "outputs": [
    {
     "name": "stdout",
     "output_type": "stream",
     "text": [
      "7\n"
     ]
    }
   ],
   "source": [
    "x=[2,3,5,2,1,6,3,1,3,5,7]\n",
    "index = -1\n",
    "for i in range(len(x)):\n",
    "    if x[i] == 1:\n",
    "        index = i\n",
    "\n",
    "print(index)"
   ]
  },
  {
   "cell_type": "markdown",
   "id": "96b4c30c-349e-4ad9-9cb8-721ef5eb78d0",
   "metadata": {},
   "source": [
    "### Move zero to last"
   ]
  },
  {
   "cell_type": "code",
   "execution_count": 2,
   "id": "ff655a9e-5350-49c4-928a-6b3d204464b2",
   "metadata": {},
   "outputs": [
    {
     "name": "stdout",
     "output_type": "stream",
     "text": [
      "[1, 1, 1, 1, 0, 0, 0, 0]\n"
     ]
    }
   ],
   "source": [
    "num = 10101010\n",
    "store = []\n",
    "zero_count = 0\n",
    "\n",
    "while num > 0:\n",
    "    last_digit = num%10\n",
    "    if last_digit == 1:\n",
    "        store.append(last_digit) #or we can write |store.append(1)| #\n",
    "    elif last_digit == 0:\n",
    "       zero_count+=1\n",
    "    num//=10\n",
    "\n",
    "print(store + [0] * zero_count)"
   ]
  },
  {
   "cell_type": "code",
   "execution_count": 6,
   "id": "03317cf0-e139-43f1-aae5-31495cf8a211",
   "metadata": {},
   "outputs": [
    {
     "name": "stdout",
     "output_type": "stream",
     "text": [
      "[1, 1, 1, 1, 0, 0, 0, 0]\n"
     ]
    }
   ],
   "source": [
    "num = [1, 0, 1, 0, 1, 0, 1, 0]  \n",
    "store = []\n",
    "zero_count = 0\n",
    "\n",
    "i = len(num) - 1  \n",
    "\n",
    "while i >= 0:\n",
    "    if num[i] == 1:\n",
    "        store.append(1)\n",
    "    elif num[i] == 0:\n",
    "        zero_count += 1\n",
    "    i -= 1  \n",
    "\n",
    "print(store + [0] * zero_count)\n",
    "\n"
   ]
  },
  {
   "cell_type": "code",
   "execution_count": null,
   "id": "fcf548f0-7e7e-430e-90e6-e2e2e4520bf2",
   "metadata": {},
   "outputs": [],
   "source": []
  }
 ],
 "metadata": {
  "kernelspec": {
   "display_name": "Python 3 (ipykernel)",
   "language": "python",
   "name": "python3"
  },
  "language_info": {
   "codemirror_mode": {
    "name": "ipython",
    "version": 3
   },
   "file_extension": ".py",
   "mimetype": "text/x-python",
   "name": "python",
   "nbconvert_exporter": "python",
   "pygments_lexer": "ipython3",
   "version": "3.12.2"
  }
 },
 "nbformat": 4,
 "nbformat_minor": 5
}
