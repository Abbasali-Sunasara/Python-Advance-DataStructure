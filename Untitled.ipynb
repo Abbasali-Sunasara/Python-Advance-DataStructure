{
 "cells": [
  {
   "cell_type": "code",
   "execution_count": 5,
   "id": "d07b9f37-5d65-4542-8b45-9c078d4b201c",
   "metadata": {},
   "outputs": [
    {
     "name": "stdin",
     "output_type": "stream",
     "text": [
      "Enter number of players:  3\n",
      "Enter player name:  abbas\n",
      "Enter player score:  10\n",
      "Enter player name:  abar'\n",
      "Enter player score:  50\n",
      "Enter player name:  monoj\n",
      "Enter player score:  3\n"
     ]
    },
    {
     "name": "stdout",
     "output_type": "stream",
     "text": [
      "Merge Sort: [(\"abar'\", 50), ('abbas', 10), ('monoj', 3)]\n",
      "Quick Sort: [(\"abar'\", 50), ('abbas', 10), ('monoj', 3)]\n",
      "Heap Sort: [(\"abar'\", 50), ('abbas', 10), ('monoj', 3)]\n"
     ]
    }
   ],
   "source": [
    "import heapq\n",
    "\n",
    "def merge_sort(arr):\n",
    "    if len(arr) > 1:\n",
    "        mid = len(arr) // 2\n",
    "        left = arr[:mid]\n",
    "        right = arr[mid:]\n",
    "        \n",
    "        merge_sort(left)\n",
    "        merge_sort(right)\n",
    "        \n",
    "        i = j = k = 0\n",
    "        while i < len(left) and j < len(right):\n",
    "            if left[i][1] > right[j][1]:\n",
    "                arr[k] = left[i]\n",
    "                i += 1\n",
    "            else:\n",
    "                arr[k] = right[j]\n",
    "                j += 1\n",
    "            k += 1\n",
    "        \n",
    "        while i < len(left):\n",
    "            arr[k] = left[i]\n",
    "            i += 1\n",
    "            k += 1\n",
    "        \n",
    "        while j < len(right):\n",
    "            arr[k] = right[j]\n",
    "            j += 1\n",
    "            k += 1\n",
    "\n",
    "def quick_sort(arr):\n",
    "    if len(arr) <= 1:\n",
    "        return arr\n",
    "    pivot = arr[len(arr) // 2][1]\n",
    "    left = [x for x in arr if x[1] > pivot]\n",
    "    middle = [x for x in arr if x[1] == pivot]\n",
    "    right = [x for x in arr if x[1] < pivot]\n",
    "    return quick_sort(left) + middle + quick_sort(right)\n",
    "\n",
    "def heap_sort(arr):\n",
    "    heap = [(-score, name) for name, score in arr]\n",
    "    heapq.heapify(heap)\n",
    "    sorted_arr = [heapq.heappop(heap) for _ in range(len(heap))]\n",
    "    return [(name, -score) for score, name in sorted_arr]\n",
    "\n",
    "# Taking user input for leaderboard data\n",
    "n = int(input(\"Enter number of players: \"))\n",
    "leaderboard = []\n",
    "for _ in range(n):\n",
    "    name = input(\"Enter player name: \")\n",
    "    score = int(input(\"Enter player score: \"))\n",
    "    leaderboard.append((name, score))\n",
    "\n",
    "# Using Merge Sort\n",
    "merge_sorted = leaderboard[:]\n",
    "merge_sort(merge_sorted)\n",
    "print(\"Merge Sort:\", merge_sorted)\n",
    "\n",
    "# Using Quick Sort\n",
    "quick_sorted = quick_sort(leaderboard[:])\n",
    "print(\"Quick Sort:\", quick_sorted)\n",
    "\n",
    "# Using Heap Sort\n",
    "heap_sorted = heap_sort(leaderboard[:])\n",
    "print(\"Heap Sort:\", heap_sorted)\n"
   ]
  },
  {
   "cell_type": "code",
   "execution_count": null,
   "id": "f835e70f-cfae-4eb3-8c05-5b77f6670a98",
   "metadata": {},
   "outputs": [],
   "source": []
  }
 ],
 "metadata": {
  "kernelspec": {
   "display_name": "Python 3 (ipykernel)",
   "language": "python",
   "name": "python3"
  },
  "language_info": {
   "codemirror_mode": {
    "name": "ipython",
    "version": 3
   },
   "file_extension": ".py",
   "mimetype": "text/x-python",
   "name": "python",
   "nbconvert_exporter": "python",
   "pygments_lexer": "ipython3",
   "version": "3.12.2"
  }
 },
 "nbformat": 4,
 "nbformat_minor": 5
}
