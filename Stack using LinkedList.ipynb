{
 "cells": [
  {
   "cell_type": "code",
   "execution_count": 10,
   "id": "97a53d25-8275-448b-b326-b9fdafafe394",
   "metadata": {},
   "outputs": [],
   "source": []
  },
  {
   "cell_type": "code",
   "execution_count": null,
   "id": "febc2b2b-5fc9-40f3-9725-752aa0f1c3e7",
   "metadata": {},
   "outputs": [
    {
     "name": "stdout",
     "output_type": "stream",
     "text": [
      "\n",
      "1. Push\n",
      "2. Pop\n",
      "3. Peek\n",
      "4. display\n",
      "5. Exit\n"
     ]
    },
    {
     "name": "stdin",
     "output_type": "stream",
     "text": [
      "Enter the choice:  1\n",
      "Enter element to push:  10\n"
     ]
    },
    {
     "name": "stdout",
     "output_type": "stream",
     "text": [
      "\n",
      "1. Push\n",
      "2. Pop\n",
      "3. Peek\n",
      "4. display\n",
      "5. Exit\n"
     ]
    },
    {
     "name": "stdin",
     "output_type": "stream",
     "text": [
      "Enter the choice:  1\n",
      "Enter element to push:  20\n"
     ]
    },
    {
     "name": "stdout",
     "output_type": "stream",
     "text": [
      "\n",
      "1. Push\n",
      "2. Pop\n",
      "3. Peek\n",
      "4. display\n",
      "5. Exit\n"
     ]
    },
    {
     "name": "stdin",
     "output_type": "stream",
     "text": [
      "Enter the choice:  3\n"
     ]
    },
    {
     "name": "stdout",
     "output_type": "stream",
     "text": [
      "Top element: 20\n",
      "\n",
      "1. Push\n",
      "2. Pop\n",
      "3. Peek\n",
      "4. display\n",
      "5. Exit\n"
     ]
    },
    {
     "name": "stdin",
     "output_type": "stream",
     "text": [
      "Enter the choice:  30\n"
     ]
    },
    {
     "name": "stdout",
     "output_type": "stream",
     "text": [
      "Invalid choice! Enter a number between 1-5.\n",
      "\n",
      "1. Push\n",
      "2. Pop\n",
      "3. Peek\n",
      "4. display\n",
      "5. Exit\n"
     ]
    },
    {
     "name": "stdin",
     "output_type": "stream",
     "text": [
      "Enter the choice:  3\n"
     ]
    },
    {
     "name": "stdout",
     "output_type": "stream",
     "text": [
      "Top element: 20\n",
      "\n",
      "1. Push\n",
      "2. Pop\n",
      "3. Peek\n",
      "4. display\n",
      "5. Exit\n"
     ]
    },
    {
     "name": "stdin",
     "output_type": "stream",
     "text": [
      "Enter the choice:  1\n",
      "Enter element to push:  30\n"
     ]
    },
    {
     "name": "stdout",
     "output_type": "stream",
     "text": [
      "\n",
      "1. Push\n",
      "2. Pop\n",
      "3. Peek\n",
      "4. display\n",
      "5. Exit\n"
     ]
    },
    {
     "name": "stdin",
     "output_type": "stream",
     "text": [
      "Enter the choice:  3\n"
     ]
    },
    {
     "name": "stdout",
     "output_type": "stream",
     "text": [
      "Top element: 30\n",
      "\n",
      "1. Push\n",
      "2. Pop\n",
      "3. Peek\n",
      "4. display\n",
      "5. Exit\n"
     ]
    }
   ],
   "source": [
    "class Node:\n",
    "    def __init__(self,data = None,Next = None) :\n",
    "        self.item = data\n",
    "        self.next = Next\n",
    "\n",
    "\n",
    "class Stack:\n",
    "    def __init__(self):\n",
    "        self.top = None\n",
    "\n",
    "\n",
    "    def isempty(self):\n",
    "        return self.top is None\n",
    "\n",
    "    def push (self,elem):\n",
    "        self.top = Node(elem,self.top)\n",
    "\n",
    "    def pop (self):\n",
    "        if self.isempty():\n",
    "            print(\"the satck is empty\")\n",
    "        else:\n",
    "            elem = self.top.item\n",
    "            self.top = self.top.next\n",
    "            return elem\n",
    "\n",
    "    def peek(self):\n",
    "        if self.isempty():\n",
    "            print(\"the satck is empty\")\n",
    "        else:\n",
    "            return self.top.item\n",
    "\n",
    "    def display(self):\n",
    "        if self.isempty():\n",
    "            print(\"the stack is empty\")\n",
    "        else:\n",
    "            temp = self.top\n",
    "            while temp!=None:\n",
    "                print(temp.item,end=\" \")\n",
    "                temp = temp.next\n",
    "        \n",
    "\n",
    "\n",
    "\n",
    "\n",
    "s = Stack()\n",
    "\n",
    "while True:  \n",
    "    print(\"\\n1. Push\")\n",
    "    print(\"2. Pop\")\n",
    "    print(\"3. Peek\")\n",
    "    print(\"4. display\")\n",
    "    print(\"5. Exit\")\n",
    "\n",
    "    choice = int(input(\"Enter the choice: \"))\n",
    "\n",
    "    if choice == 1:\n",
    "        elem = input(\"Enter element to push: \")\n",
    "        s.push(elem)\n",
    "    elif choice == 2:\n",
    "        print(\"Popped element:\", s.pop())\n",
    "    elif choice == 3:\n",
    "        print(\"Top element:\", s.peek())\n",
    "    elif choice == 4:\n",
    "         s.display()\n",
    "    elif choice == 5:\n",
    "        print(\"Exited\")\n",
    "        break  \n",
    "    else:\n",
    "        print(\"Invalid choice! Enter a number between 1-5.\")       "
   ]
  },
  {
   "cell_type": "code",
   "execution_count": null,
   "id": "d7df8320-3e7c-497e-b310-fe7f5ff6a44d",
   "metadata": {},
   "outputs": [],
   "source": []
  },
  {
   "cell_type": "code",
   "execution_count": null,
   "id": "e9d859f5-1bd0-4df4-aadc-7b50496146ac",
   "metadata": {},
   "outputs": [],
   "source": []
  }
 ],
 "metadata": {
  "kernelspec": {
   "display_name": "Python 3 (ipykernel)",
   "language": "python",
   "name": "python3"
  },
  "language_info": {
   "codemirror_mode": {
    "name": "ipython",
    "version": 3
   },
   "file_extension": ".py",
   "mimetype": "text/x-python",
   "name": "python",
   "nbconvert_exporter": "python",
   "pygments_lexer": "ipython3",
   "version": "3.12.2"
  }
 },
 "nbformat": 4,
 "nbformat_minor": 5
}
