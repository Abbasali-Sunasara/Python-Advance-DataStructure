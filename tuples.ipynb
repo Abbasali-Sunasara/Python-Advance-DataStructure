{
 "cells": [
  {
   "cell_type": "code",
   "execution_count": 27,
   "id": "33212398-5df1-47b8-ae1d-9dc48398b41c",
   "metadata": {},
   "outputs": [
    {
     "name": "stdin",
     "output_type": "stream",
     "text": [
      " 2 3 4 5 6\n"
     ]
    },
    {
     "name": "stdout",
     "output_type": "stream",
     "text": [
      "(6, 12, 20, 30)\n"
     ]
    }
   ],
   "source": [
    "tuple1=tuple(map(int, input().split()))\n",
    "\n",
    "tuple2= ()\n",
    "\n",
    "for i in range(len(tuple1)-1):\n",
    "    tuple2=tuple2+(tuple1[i] * tuple1[i+1],)\n",
    "\n",
    "\n",
    "print(tuple2)"
   ]
  },
  {
   "cell_type": "code",
   "execution_count": 29,
   "id": "884e3080-8ebe-486b-b866-db3d4134f13e",
   "metadata": {},
   "outputs": [
    {
     "name": "stdin",
     "output_type": "stream",
     "text": [
      "Enter the key:  2\n"
     ]
    },
    {
     "name": "stdout",
     "output_type": "stream",
     "text": [
      "Key is present\n"
     ]
    }
   ],
   "source": [
    "dic = {1: \"a\", 2: \"b\", 3: \"c\"}\n",
    "n = int(input(\"Enter the key: \"))\n",
    "\n",
    "if n in dic:\n",
    "    print(\"Key is present\")\n",
    "else:\n",
    "    print(\"Key is not present\")\n"
   ]
  },
  {
   "cell_type": "code",
   "execution_count": 33,
   "id": "75852dcd-f945-4ca8-a7bb-120846c1dca7",
   "metadata": {},
   "outputs": [
    {
     "name": "stdout",
     "output_type": "stream",
     "text": [
      "e\n",
      "p\n"
     ]
    }
   ],
   "source": [
    "tuple1=(\"faceprep\")\n",
    "print(tuple1[3])\n",
    "print(tuple1[-4])"
   ]
  },
  {
   "cell_type": "code",
   "execution_count": 37,
   "id": "bdffbbaa-ad8c-4e3b-9205-5635b3ef041f",
   "metadata": {},
   "outputs": [
    {
     "name": "stdout",
     "output_type": "stream",
     "text": [
      "After sorting: [(1, 2), (2, 3), (4, 4), (2, 5)]\n"
     ]
    }
   ],
   "source": [
    "num=[(2,5),(1,2),(4,4),(2,3)]\n",
    "size=len(num)\n",
    "\n",
    "for i in range(0,size):\n",
    "    for j in range(0,size-i-1):\n",
    "        if num[j][1] > num[j + 1][1]:\n",
    "            num[j],num[j+1]=num[j+1],num[j]\n",
    "print(\"After sorting:\",num)"
   ]
  },
  {
   "cell_type": "code",
   "execution_count": 42,
   "id": "38905c3a-c35f-41b4-b067-886c308838db",
   "metadata": {},
   "outputs": [
    {
     "name": "stdin",
     "output_type": "stream",
     "text": [
      "Enter the maximum frequency for any number:  2\n"
     ]
    },
    {
     "name": "stdout",
     "output_type": "stream",
     "text": [
      "Filtered list: [(2, 3), (3, 3), (1, 4), (2, 4), (3, 4), (1, 4), (4, 7)]\n"
     ]
    }
   ],
   "source": [
    "num = [(2, 3), (3, 3), (1, 4), (2, 4), (2, 5), (3, 4), (1, 4), (3, 4), (4, 7)]\n",
    "freq = int(input(\"Enter the maximum frequency for any number: \"))\n",
    "new_list = []\n",
    "first_elements = []\n",
    "\n",
    "for pair in num:\n",
    "    first_num = pair[0]\n",
    "    if first_elements.count(first_num) < freq:\n",
    "        new_list.append(pair)\n",
    "        first_elements.append(first_num)\n",
    "\n",
    "print(\"Filtered list:\", new_list)\n"
   ]
  },
  {
   "cell_type": "code",
   "execution_count": null,
   "id": "2fae253c-ac49-4e34-abe2-cd22693fdc2b",
   "metadata": {},
   "outputs": [],
   "source": []
  }
 ],
 "metadata": {
  "kernelspec": {
   "display_name": "Python 3 (ipykernel)",
   "language": "python",
   "name": "python3"
  },
  "language_info": {
   "codemirror_mode": {
    "name": "ipython",
    "version": 3
   },
   "file_extension": ".py",
   "mimetype": "text/x-python",
   "name": "python",
   "nbconvert_exporter": "python",
   "pygments_lexer": "ipython3",
   "version": "3.12.2"
  }
 },
 "nbformat": 4,
 "nbformat_minor": 5
}
