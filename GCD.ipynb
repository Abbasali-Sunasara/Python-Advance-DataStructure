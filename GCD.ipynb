{
 "cells": [
  {
   "cell_type": "code",
   "execution_count": 1,
   "id": "bb1aba1c-3082-48c7-8899-43b998a8b669",
   "metadata": {},
   "outputs": [
    {
     "data": {
      "text/plain": [
       "7"
      ]
     },
     "execution_count": 1,
     "metadata": {},
     "output_type": "execute_result"
    }
   ],
   "source": [
    "m=[]\n",
    "def simple_gcd(m,n):\n",
    "    fm=[]\n",
    "    for i in range(1,m+1):\n",
    "            if m % i == 0:\n",
    "                fm.append(i)\n",
    "    \n",
    "    fn=[]\n",
    "    for j in range(1,n+1):\n",
    "            if n % j == 0:\n",
    "                fn.append(j)\n",
    "    cf=[]\n",
    "    for f in fm:\n",
    "             if f in fn:\n",
    "                 cf.append(f)\n",
    "    return(cf[-1])\n",
    "\n",
    "\n",
    "simple_gcd(14,63)"
   ]
  },
  {
   "cell_type": "code",
   "execution_count": 4,
   "id": "f30584b9-552c-4ae2-90fa-ca1bf70ad58a",
   "metadata": {},
   "outputs": [
    {
     "data": {
      "text/plain": [
       "7"
      ]
     },
     "execution_count": 4,
     "metadata": {},
     "output_type": "execute_result"
    }
   ],
   "source": [
    "def gcd(m,n):\n",
    "    cf=[]\n",
    "    for i in range(1,min(m,n)+1):\n",
    "        if (m%i)==0 and (n%i)==0:\n",
    "            cf.append(i)\n",
    "    return(cf[-1])\n",
    "\n",
    "gcd(14,63)"
   ]
  },
  {
   "cell_type": "code",
   "execution_count": 9,
   "id": "f9522920-d86c-401a-a3f6-116b6f3720c6",
   "metadata": {},
   "outputs": [
    {
     "name": "stdout",
     "output_type": "stream",
     "text": [
      "14 and 63 gcd is 7\n"
     ]
    }
   ],
   "source": [
    "def gcd(m,n):\n",
    "    min1=min(m,n)\n",
    "    for i in range(min1,0,-1):\n",
    "        if m%i==0 and n%i==0:\n",
    "            print(f\"{m} and {n} gcd is {i}\")\n",
    "            break\n",
    "\n",
    "\n",
    "gcd(14,63)"
   ]
  },
  {
   "cell_type": "code",
   "execution_count": 11,
   "id": "a2bb8a3b-9a0f-4ecd-8c86-fefe09494f67",
   "metadata": {},
   "outputs": [
    {
     "data": {
      "text/plain": [
       "7"
      ]
     },
     "execution_count": 11,
     "metadata": {},
     "output_type": "execute_result"
    }
   ],
   "source": [
    "def gcd(m,n):\n",
    "    for i in range(1,min(m,n)+1):\n",
    "        if m%i==0 and n%i==0:\n",
    "            gcdn=i\n",
    "    return(gcdn)\n",
    "\n",
    "gcd(14,63)"
   ]
  },
  {
   "cell_type": "code",
   "execution_count": 17,
   "id": "2fcf5c18-ee5f-4b4f-98a7-72fd670b0b13",
   "metadata": {},
   "outputs": [
    {
     "data": {
      "text/plain": [
       "7"
      ]
     },
     "execution_count": 17,
     "metadata": {},
     "output_type": "execute_result"
    }
   ],
   "source": [
    "def gcd(m,n):\n",
    "    for i in range(min(m,n),0,-1):\n",
    "        if m%i==0 and n%i==0:\n",
    "            gcdn=i\n",
    "            return(gcdn)\n",
    "   \n",
    "   \n",
    "\n",
    "gcd(14,63)\n"
   ]
  },
  {
   "cell_type": "code",
   "execution_count": 18,
   "id": "daa84fd8-c8df-44c4-be2f-d722c514a645",
   "metadata": {},
   "outputs": [
    {
     "data": {
      "text/plain": [
       "7"
      ]
     },
     "execution_count": 18,
     "metadata": {},
     "output_type": "execute_result"
    }
   ],
   "source": [
    "def gcd(m,n):\n",
    "    i=min(m,n)\n",
    "\n",
    "    while i>0:\n",
    "        if(m%i==0) and (n%i==0):\n",
    "            return(i)\n",
    "        else:\n",
    "            i=i-1\n",
    "\n",
    "gcd(14,63)"
   ]
  },
  {
   "cell_type": "code",
   "execution_count": 7,
   "id": "21ed49b5-41d3-4366-8c23-5fedb9eb4e07",
   "metadata": {},
   "outputs": [
    {
     "data": {
      "text/plain": [
       "14"
      ]
     },
     "execution_count": 7,
     "metadata": {},
     "output_type": "execute_result"
    }
   ],
   "source": [
    "def gcd_euclid(m, n):\n",
    "    if m%n!=m:\n",
    "        m,n=n,m\n",
    "    \n",
    "    while n != 0:\n",
    "        m, n = n, m % n\n",
    "    return m \n",
    "\n",
    "gcd_euclid(56,98)"
   ]
  },
  {
   "cell_type": "code",
   "execution_count": 1,
   "id": "c88d0791-b10e-435e-a29e-5e2e8c77625a",
   "metadata": {},
   "outputs": [
    {
     "data": {
      "text/plain": [
       "14"
      ]
     },
     "execution_count": 1,
     "metadata": {},
     "output_type": "execute_result"
    }
   ],
   "source": [
    "def euclid_gcd(m,n):\n",
    "    if n == 0 :\n",
    "        return m\n",
    "    else:\n",
    "        return euclid_gcd(n,m % n)\n",
    "\n",
    "euclid_gcd(56,98)\n"
   ]
  },
  {
   "cell_type": "code",
   "execution_count": null,
   "id": "e85f8152-1cba-4d87-b98d-a29180362254",
   "metadata": {},
   "outputs": [],
   "source": []
  }
 ],
 "metadata": {
  "kernelspec": {
   "display_name": "Python 3 (ipykernel)",
   "language": "python",
   "name": "python3"
  },
  "language_info": {
   "codemirror_mode": {
    "name": "ipython",
    "version": 3
   },
   "file_extension": ".py",
   "mimetype": "text/x-python",
   "name": "python",
   "nbconvert_exporter": "python",
   "pygments_lexer": "ipython3",
   "version": "3.12.2"
  }
 },
 "nbformat": 4,
 "nbformat_minor": 5
}
