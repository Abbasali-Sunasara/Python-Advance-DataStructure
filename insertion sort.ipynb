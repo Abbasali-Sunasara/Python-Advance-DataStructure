{
 "cells": [
  {
   "cell_type": "markdown",
   "id": "6deea0ea-c7ef-41f1-8ca4-b1572ccda174",
   "metadata": {},
   "source": [
    "### always starts from second element"
   ]
  },
  {
   "cell_type": "code",
   "execution_count": 2,
   "id": "7422e33b-a1ce-401d-98a0-2fb4cdf64d47",
   "metadata": {},
   "outputs": [
    {
     "data": {
      "text/plain": [
       "[1, 2, 23, 43, 45, 45, 70, 26]"
      ]
     },
     "execution_count": 2,
     "metadata": {},
     "output_type": "execute_result"
    }
   ],
   "source": [
    "def insertion_sort(li):\n",
    "    size = len(li)\n",
    "    for i in range(1,size-1):\n",
    "        temp = li[i]\n",
    "        j = i-1\n",
    "        while temp<li[j] and j>=0:\n",
    "            li[j+1] = li[j]\n",
    "            j=j-1\n",
    "            li[j+1] = temp\n",
    "    return li\n",
    "\n",
    "li=[2,23,45,1,43,45,70,26]\n",
    "insertion_sort(li)"
   ]
  },
  {
   "cell_type": "code",
   "execution_count": null,
   "id": "26be60dc-e71c-48b0-aa19-ff5b3071cf3b",
   "metadata": {},
   "outputs": [],
   "source": []
  }
 ],
 "metadata": {
  "kernelspec": {
   "display_name": "Python 3 (ipykernel)",
   "language": "python",
   "name": "python3"
  },
  "language_info": {
   "codemirror_mode": {
    "name": "ipython",
    "version": 3
   },
   "file_extension": ".py",
   "mimetype": "text/x-python",
   "name": "python",
   "nbconvert_exporter": "python",
   "pygments_lexer": "ipython3",
   "version": "3.12.2"
  }
 },
 "nbformat": 4,
 "nbformat_minor": 5
}
