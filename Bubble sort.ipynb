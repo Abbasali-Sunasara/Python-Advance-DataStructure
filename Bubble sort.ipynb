{
 "cells": [
  {
   "cell_type": "code",
   "execution_count": 12,
   "id": "a2753425-1efb-49c1-917b-cac67f21ba18",
   "metadata": {},
   "outputs": [
    {
     "name": "stdin",
     "output_type": "stream",
     "text": [
      "enter the number of elments 5\n",
      "Enter the elements 5\n",
      "Enter the elements 4\n",
      "Enter the elements 3\n",
      "Enter the elements 2\n",
      "Enter the elements 1\n"
     ]
    },
    {
     "name": "stdout",
     "output_type": "stream",
     "text": [
      "The sorted array is :- [1, 2, 3, 4, 5]\n"
     ]
    }
   ],
   "source": [
    "def bubble_sort(x):\n",
    "    size = len(x)\n",
    "    for i in range(size-1):\n",
    "        for j in range(size-1):\n",
    "            if x[j] > x[j+1]:\n",
    "                temp = x[j]\n",
    "                x[j] = x[j+1]\n",
    "                x[j+1] = temp\n",
    "    print(\"The sorted array is :-\",x)\n",
    "\n",
    "x=[]\n",
    "n = int(input(\"enter the number of elments\"))\n",
    "for i in range(n):\n",
    "    num = int(input(\"Enter the elements\"))\n",
    "    x.append(num)\n",
    "bubble_sort(x)"
   ]
  },
  {
   "cell_type": "code",
   "execution_count": null,
   "id": "c85e99ac-1fa4-42f3-a97c-7fafabda2c89",
   "metadata": {},
   "outputs": [],
   "source": []
  }
 ],
 "metadata": {
  "kernelspec": {
   "display_name": "Python 3 (ipykernel)",
   "language": "python",
   "name": "python3"
  },
  "language_info": {
   "codemirror_mode": {
    "name": "ipython",
    "version": 3
   },
   "file_extension": ".py",
   "mimetype": "text/x-python",
   "name": "python",
   "nbconvert_exporter": "python",
   "pygments_lexer": "ipython3",
   "version": "3.12.2"
  }
 },
 "nbformat": 4,
 "nbformat_minor": 5
}
