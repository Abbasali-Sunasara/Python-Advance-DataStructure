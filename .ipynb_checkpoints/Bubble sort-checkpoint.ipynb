{
 "cells": [
  {
   "cell_type": "code",
   "execution_count": null,
   "id": "2fac50c0-dc99-4642-939b-ffae691346f6",
   "metadata": {},
   "outputs": [],
   "source": [
    "### Bubble sort"
   ]
  },
  {
   "cell_type": "code",
   "execution_count": 12,
   "id": "a2753425-1efb-49c1-917b-cac67f21ba18",
   "metadata": {},
   "outputs": [
    {
     "name": "stdin",
     "output_type": "stream",
     "text": [
      "enter the number of elments 5\n",
      "Enter the elements 5\n",
      "Enter the elements 4\n",
      "Enter the elements 3\n",
      "Enter the elements 2\n",
      "Enter the elements 1\n"
     ]
    },
    {
     "name": "stdout",
     "output_type": "stream",
     "text": [
      "The sorted array is :- [1, 2, 3, 4, 5]\n"
     ]
    }
   ],
   "source": [
    "def bubble_sort(x):\n",
    "    size = len(x)\n",
    "    for i in range(size-1):\n",
    "        for j in range(size-1):\n",
    "            if x[j] > x[j+1]:\n",
    "                temp = x[j]\n",
    "                x[j] = x[j+1]\n",
    "                x[j+1] = temp\n",
    "    print(\"The sorted array is :-\",x)\n",
    "\n",
    "x=[]\n",
    "n = int(input(\"enter the number of elments\"))\n",
    "for i in range(n):\n",
    "    num = int(input(\"Enter the elements\"))\n",
    "    x.append(num)\n",
    "bubble_sort(x)"
   ]
  },
  {
   "cell_type": "markdown",
   "id": "62b702a1-a3e5-4390-870b-3d2f8b6deb55",
   "metadata": {},
   "source": [
    "### Bubble sort in descending order"
   ]
  },
  {
   "cell_type": "code",
   "execution_count": 2,
   "id": "c85e99ac-1fa4-42f3-a97c-7fafabda2c89",
   "metadata": {},
   "outputs": [
    {
     "name": "stdout",
     "output_type": "stream",
     "text": [
      "The desc bubble sort is :- [87, 56, 54, 35, 24, 3, 2, 1]\n"
     ]
    }
   ],
   "source": [
    "num = [1,24,54,3,2,87,56,35]\n",
    "size = len(num)\n",
    "\n",
    "for i in range(size-1):\n",
    "    for j in range (size-1):\n",
    "        if num[j] < num[j+1]: # the only diff is that the sign is changed from \" > \"  to \" < \"\n",
    "            temp = num[j]\n",
    "            num[j] = num[j+1]\n",
    "            num[j+1] = temp\n",
    "print(\"The desc bubble sort is :-\",num)\n",
    "\n"
   ]
  },
  {
   "cell_type": "markdown",
   "id": "ed713fe3-5d49-4bde-bd28-9bf60615c197",
   "metadata": {},
   "source": [
    "### count and display the each element no. of times swapping is occured"
   ]
  },
  {
   "cell_type": "code",
   "execution_count": 16,
   "id": "777a71b3-c3e8-407d-a646-3cee4dbc456c",
   "metadata": {},
   "outputs": [
    {
     "name": "stdout",
     "output_type": "stream",
     "text": [
      "The desc bubble sort is :- [0, 10, 10, 20, 20, 20, 30, 40, 70]\n",
      "The count is :- 0\n"
     ]
    }
   ],
   "source": [
    "num = [10,20,30,20,10,0,40,70,20]\n",
    "size = len(num)\n",
    "count = 0\n",
    "swap = {}\n",
    "for i in range(size-1):\n",
    "    for j in range (size-1):\n",
    "        if num[j] > num[j+1]: \n",
    "            temp = num[j]\n",
    "            num[j] = num[j+1]\n",
    "            num[j+1] = temp\n",
    "            \n",
    "print(\"The desc bubble sort is :-\",num)\n",
    "print (\"The count is :-\",count)"
   ]
  },
  {
   "cell_type": "code",
   "execution_count": null,
   "id": "03ea3309-8c68-46e9-9126-776f7eb3b4f2",
   "metadata": {},
   "outputs": [],
   "source": []
  }
 ],
 "metadata": {
  "kernelspec": {
   "display_name": "Python 3 (ipykernel)",
   "language": "python",
   "name": "python3"
  },
  "language_info": {
   "codemirror_mode": {
    "name": "ipython",
    "version": 3
   },
   "file_extension": ".py",
   "mimetype": "text/x-python",
   "name": "python",
   "nbconvert_exporter": "python",
   "pygments_lexer": "ipython3",
   "version": "3.12.2"
  }
 },
 "nbformat": 4,
 "nbformat_minor": 5
}
