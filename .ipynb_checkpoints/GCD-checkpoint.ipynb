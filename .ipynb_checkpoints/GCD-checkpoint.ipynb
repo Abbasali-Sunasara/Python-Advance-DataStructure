{
 "cells": [
  {
   "cell_type": "code",
   "execution_count": 27,
   "id": "bb1aba1c-3082-48c7-8899-43b998a8b669",
   "metadata": {},
   "outputs": [
    {
     "data": {
      "text/plain": [
       "12"
      ]
     },
     "execution_count": 27,
     "metadata": {},
     "output_type": "execute_result"
    }
   ],
   "source": [
    "m=[]\n",
    "def simple_gcd(m,n):\n",
    "    fm=[]\n",
    "    for i in range(1,m+1):\n",
    "            if m % i == 0:\n",
    "                fm.append(i)\n",
    "    \n",
    "    fn=[]\n",
    "    for j in range(1,n+1):\n",
    "            if n % j == 0:\n",
    "                fn.append(j)\n",
    "    cf=[]\n",
    "    for f in fm:\n",
    "             if f in fn:\n",
    "                 cf.append(f)\n",
    "    return(cf[-1])\n",
    "\n",
    "\n",
    "simple_gcd(24,36)"
   ]
  },
  {
   "cell_type": "code",
   "execution_count": null,
   "id": "f30584b9-552c-4ae2-90fa-ca1bf70ad58a",
   "metadata": {},
   "outputs": [],
   "source": []
  }
 ],
 "metadata": {
  "kernelspec": {
   "display_name": "Python 3 (ipykernel)",
   "language": "python",
   "name": "python3"
  },
  "language_info": {
   "codemirror_mode": {
    "name": "ipython",
    "version": 3
   },
   "file_extension": ".py",
   "mimetype": "text/x-python",
   "name": "python",
   "nbconvert_exporter": "python",
   "pygments_lexer": "ipython3",
   "version": "3.12.2"
  }
 },
 "nbformat": 4,
 "nbformat_minor": 5
}
