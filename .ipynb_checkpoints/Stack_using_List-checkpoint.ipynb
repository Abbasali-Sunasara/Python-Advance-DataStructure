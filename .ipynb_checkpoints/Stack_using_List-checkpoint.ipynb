{
 "cells": [
  {
   "cell_type": "code",
   "execution_count": 13,
   "id": "377f1259-136d-48ad-8aa0-396066d86c4c",
   "metadata": {},
   "outputs": [
    {
     "name": "stdout",
     "output_type": "stream",
     "text": [
      "\n",
      "1. Push\n",
      "2. Pop\n",
      "3. Peek\n",
      "4. Size\n",
      "5. Display\n",
      "6. Exit\n"
     ]
    },
    {
     "name": "stdin",
     "output_type": "stream",
     "text": [
      "Enter the choice:  1\n",
      "Enter element to push:  20\n"
     ]
    },
    {
     "name": "stdout",
     "output_type": "stream",
     "text": [
      "\n",
      "1. Push\n",
      "2. Pop\n",
      "3. Peek\n",
      "4. Size\n",
      "5. Display\n",
      "6. Exit\n"
     ]
    },
    {
     "name": "stdin",
     "output_type": "stream",
     "text": [
      "Enter the choice:  4\n"
     ]
    },
    {
     "name": "stdout",
     "output_type": "stream",
     "text": [
      "Stack size: 1\n",
      "\n",
      "1. Push\n",
      "2. Pop\n",
      "3. Peek\n",
      "4. Size\n",
      "5. Display\n",
      "6. Exit\n"
     ]
    },
    {
     "name": "stdin",
     "output_type": "stream",
     "text": [
      "Enter the choice:  5\n"
     ]
    },
    {
     "name": "stdout",
     "output_type": "stream",
     "text": [
      "Stack elements: ['20']\n",
      "\n",
      "1. Push\n",
      "2. Pop\n",
      "3. Peek\n",
      "4. Size\n",
      "5. Display\n",
      "6. Exit\n"
     ]
    },
    {
     "name": "stdin",
     "output_type": "stream",
     "text": [
      "Enter the choice:  3\n"
     ]
    },
    {
     "name": "stdout",
     "output_type": "stream",
     "text": [
      "Top element: 20\n",
      "\n",
      "1. Push\n",
      "2. Pop\n",
      "3. Peek\n",
      "4. Size\n",
      "5. Display\n",
      "6. Exit\n"
     ]
    },
    {
     "name": "stdin",
     "output_type": "stream",
     "text": [
      "Enter the choice:  1\n",
      "Enter element to push:  30\n"
     ]
    },
    {
     "name": "stdout",
     "output_type": "stream",
     "text": [
      "\n",
      "1. Push\n",
      "2. Pop\n",
      "3. Peek\n",
      "4. Size\n",
      "5. Display\n",
      "6. Exit\n"
     ]
    },
    {
     "name": "stdin",
     "output_type": "stream",
     "text": [
      "Enter the choice:  1\n",
      "Enter element to push:  40\n"
     ]
    },
    {
     "name": "stdout",
     "output_type": "stream",
     "text": [
      "\n",
      "1. Push\n",
      "2. Pop\n",
      "3. Peek\n",
      "4. Size\n",
      "5. Display\n",
      "6. Exit\n"
     ]
    },
    {
     "name": "stdin",
     "output_type": "stream",
     "text": [
      "Enter the choice:  1\n",
      "Enter element to push:  50\n"
     ]
    },
    {
     "name": "stdout",
     "output_type": "stream",
     "text": [
      "\n",
      "1. Push\n",
      "2. Pop\n",
      "3. Peek\n",
      "4. Size\n",
      "5. Display\n",
      "6. Exit\n"
     ]
    },
    {
     "name": "stdin",
     "output_type": "stream",
     "text": [
      "Enter the choice:  4\n"
     ]
    },
    {
     "name": "stdout",
     "output_type": "stream",
     "text": [
      "Stack size: 4\n",
      "\n",
      "1. Push\n",
      "2. Pop\n",
      "3. Peek\n",
      "4. Size\n",
      "5. Display\n",
      "6. Exit\n"
     ]
    },
    {
     "name": "stdin",
     "output_type": "stream",
     "text": [
      "Enter the choice:  3\n"
     ]
    },
    {
     "name": "stdout",
     "output_type": "stream",
     "text": [
      "Top element: 50\n",
      "\n",
      "1. Push\n",
      "2. Pop\n",
      "3. Peek\n",
      "4. Size\n",
      "5. Display\n",
      "6. Exit\n"
     ]
    },
    {
     "name": "stdin",
     "output_type": "stream",
     "text": [
      "Enter the choice:  5\n"
     ]
    },
    {
     "name": "stdout",
     "output_type": "stream",
     "text": [
      "Stack elements: ['20', '30', '40', '50']\n",
      "\n",
      "1. Push\n",
      "2. Pop\n",
      "3. Peek\n",
      "4. Size\n",
      "5. Display\n",
      "6. Exit\n"
     ]
    },
    {
     "name": "stdin",
     "output_type": "stream",
     "text": [
      "Enter the choice:  6\n"
     ]
    },
    {
     "name": "stdout",
     "output_type": "stream",
     "text": [
      "Exiting program...\n"
     ]
    }
   ],
   "source": [
    "class Stack:\n",
    "    def __init__(self):\n",
    "        self.items = [] \n",
    "    \n",
    "    def isempty(self):\n",
    "        return len(self.items) == 0\n",
    "\n",
    "    def push(self, elem):\n",
    "        self.items.append(elem)\n",
    "\n",
    "    def pop(self):\n",
    "        if self.isempty():  # Fixed: Used self.isempty()\n",
    "            print(\"Stack is empty\")\n",
    "        else:\n",
    "            return self.items.pop()\n",
    "\n",
    "    def peek(self):\n",
    "        if self.isempty():  # Fixed: Used self.isempty()\n",
    "            print(\"Stack is empty\")\n",
    "        else:\n",
    "            return self.items[-1]\n",
    "\n",
    "    def size(self):\n",
    "        return len(self.items)\n",
    "\n",
    "    def display(self):\n",
    "        if self.isempty():  \n",
    "            print(\"Stack is empty\")\n",
    "        else:\n",
    "            print(\"Stack elements:\", self.items)  \n",
    "\n",
    "\n",
    "s = Stack()\n",
    "\n",
    "while True:  \n",
    "    print(\"\\n1. Push\")\n",
    "    print(\"2. Pop\")\n",
    "    print(\"3. Peek\")\n",
    "    print(\"4. Size\")\n",
    "    print(\"5. Display\")\n",
    "    print(\"6. Exit\")\n",
    "\n",
    "    choice = int(input(\"Enter the choice: \"))\n",
    "\n",
    "    if choice == 1:\n",
    "        elem = input(\"Enter element to push: \")\n",
    "        s.push(elem)\n",
    "    elif choice == 2:\n",
    "        print(\"Popped element:\", s.pop())\n",
    "    elif choice == 3:\n",
    "        print(\"Top element:\", s.peek())\n",
    "    elif choice == 4:\n",
    "        print(\"Stack size:\", s.size())\n",
    "    elif choice == 5:\n",
    "        s.display()\n",
    "    elif choice == 6:\n",
    "        print(\"Exited\")\n",
    "        break  \n",
    "    else:\n",
    "        print(\"Invalid choice! Enter a number between 1-6.\")\n"
   ]
  },
  {
   "cell_type": "code",
   "execution_count": null,
   "id": "ad656a7c-782d-49d6-939d-c18898b6ce67",
   "metadata": {},
   "outputs": [],
   "source": []
  }
 ],
 "metadata": {
  "kernelspec": {
   "display_name": "Python 3 (ipykernel)",
   "language": "python",
   "name": "python3"
  },
  "language_info": {
   "codemirror_mode": {
    "name": "ipython",
    "version": 3
   },
   "file_extension": ".py",
   "mimetype": "text/x-python",
   "name": "python",
   "nbconvert_exporter": "python",
   "pygments_lexer": "ipython3",
   "version": "3.12.2"
  }
 },
 "nbformat": 4,
 "nbformat_minor": 5
}
