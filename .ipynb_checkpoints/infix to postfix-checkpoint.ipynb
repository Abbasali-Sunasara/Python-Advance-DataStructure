{
 "cells": [
  {
   "cell_type": "code",
   "execution_count": 7,
   "id": "fb9a4449-cafb-4f2a-b0ed-b340fa341b7b",
   "metadata": {},
   "outputs": [
    {
     "name": "stdin",
     "output_type": "stream",
     "text": [
      "Enter a infix expression:- (A-B/C)*(A/K-L)\n"
     ]
    },
    {
     "name": "stdout",
     "output_type": "stream",
     "text": [
      "The equivalent postfix expression is:\n",
      "ABC/-AK/L-*\n"
     ]
    }
   ],
   "source": [
    "class Node:\n",
    "    def __init__(self,data = None,Next = None) :\n",
    "        self.item = data\n",
    "        self.next = Next\n",
    "\n",
    "\n",
    "class Stack:\n",
    "    def __init__(self):\n",
    "        self.top = None\n",
    "\n",
    "\n",
    "    def isempty(self):\n",
    "        return self.top is None\n",
    "\n",
    "    def push (self,elem):\n",
    "        self.top = Node(elem,self.top)\n",
    "\n",
    "    def pop (self):\n",
    "        if self.isempty():\n",
    "            print(\"the satck is empty\")\n",
    "        else:\n",
    "            elem = self.top.item\n",
    "            self.top = self.top.next\n",
    "            return elem\n",
    "\n",
    "    def peek(self):\n",
    "        if self.isempty():\n",
    "            print(\"the satck is empty\")\n",
    "        else:\n",
    "            return self.top.item\n",
    "\n",
    "    def display(self):\n",
    "        if self.isempty():\n",
    "            print(\"the stack is empty\")\n",
    "        else:\n",
    "            temp = self.top\n",
    "            while temp!=None:\n",
    "                print(temp.item,end=\" \")\n",
    "                temp = temp.next\n",
    "\n",
    "    def infix_to_postfix(source):\n",
    "        target=\" \"\n",
    "        st=stack()\n",
    "        for ch in source:\n",
    "            if ch=='(':\n",
    "                st.push(ch)\n",
    "            elif ch==')':\n",
    "                while ( not st.empty() and st.peek()!='('):\n",
    "                    target+=st.pop()\n",
    "                st.pop()\n",
    "            elif alnum():\n",
    "                target+=ch\n",
    "            elif ch=='+' or ch=='-' or ch==\"*\" or ch == '/' or ch == '%':\n",
    "                while(not st.isempty() and st.peek()!='(' and getPriority(st.peek())>=getPriority(ch)):\n",
    "                    target+=st.pop()\n",
    "                st.push(ch)\n",
    "            while(not st.isempty()):\n",
    "                target+=st.pop()\n",
    "            return target\n",
    "\n",
    "    def getPriority(opr):\n",
    "        if (opr == '*' or opr == '/' or opr == '%'):\n",
    "            return 1\n",
    "        else:\n",
    "            return 0 \n",
    "\n",
    "infix_exp = input(\"Enter a infix expression:-\")\n",
    "postfix = infix_to_postfix(infix_exp)\n",
    "print(\"The equivalent postfix expression is:\")\n",
    "print(postfix)"
   ]
  },
  {
   "cell_type": "code",
   "execution_count": null,
   "id": "f75d8691-aa65-42e9-b470-fc2ec729cff9",
   "metadata": {},
   "outputs": [],
   "source": []
  }
 ],
 "metadata": {
  "kernelspec": {
   "display_name": "Python 3 (ipykernel)",
   "language": "python",
   "name": "python3"
  },
  "language_info": {
   "codemirror_mode": {
    "name": "ipython",
    "version": 3
   },
   "file_extension": ".py",
   "mimetype": "text/x-python",
   "name": "python",
   "nbconvert_exporter": "python",
   "pygments_lexer": "ipython3",
   "version": "3.12.2"
  }
 },
 "nbformat": 4,
 "nbformat_minor": 5
}
