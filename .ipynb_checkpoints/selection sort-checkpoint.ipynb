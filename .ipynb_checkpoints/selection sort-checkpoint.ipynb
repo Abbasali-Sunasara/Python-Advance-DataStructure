{
 "cells": [
  {
   "cell_type": "code",
   "execution_count": 16,
   "id": "c43668c2-9dfc-4e4b-83ef-a8172ddba7fb",
   "metadata": {},
   "outputs": [
    {
     "name": "stdout",
     "output_type": "stream",
     "text": [
      "[1, 19, 20, 29, 29, 33, 46, 50]\n"
     ]
    }
   ],
   "source": [
    "x = [29,1,33,20,46,29,19,50]\n",
    "size = len(x)\n",
    "for i in range(size-1):\n",
    "        min1 = x[i]\n",
    "        pos = i\n",
    "        for j in range(i+1,size):\n",
    "            if x[j] < min1:\n",
    "                min1 = x[j]\n",
    "                pos = j \n",
    "        if i !=pos:\n",
    "            temp = x[i]\n",
    "            x[i] = x[pos]\n",
    "            x[pos] = temp\n",
    "print(x)\n",
    "            "
   ]
  },
  {
   "cell_type": "code",
   "execution_count": null,
   "id": "99cf7a7a-d5d5-4218-ad90-87a800eabb9a",
   "metadata": {},
   "outputs": [],
   "source": []
  }
 ],
 "metadata": {
  "kernelspec": {
   "display_name": "Python 3 (ipykernel)",
   "language": "python",
   "name": "python3"
  },
  "language_info": {
   "codemirror_mode": {
    "name": "ipython",
    "version": 3
   },
   "file_extension": ".py",
   "mimetype": "text/x-python",
   "name": "python",
   "nbconvert_exporter": "python",
   "pygments_lexer": "ipython3",
   "version": "3.12.2"
  }
 },
 "nbformat": 4,
 "nbformat_minor": 5
}
