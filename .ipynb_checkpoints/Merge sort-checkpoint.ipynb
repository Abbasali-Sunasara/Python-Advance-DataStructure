{
 "cells": [
  {
   "cell_type": "code",
   "execution_count": 8,
   "id": "009ef2cc-1247-4d54-b768-88c7b0ba7fae",
   "metadata": {},
   "outputs": [
    {
     "name": "stdin",
     "output_type": "stream",
     "text": [
      "Enter the number of elements:  2\n",
      "Enter element 1:  2\n",
      "Enter element 2:  1\n"
     ]
    },
    {
     "name": "stdout",
     "output_type": "stream",
     "text": [
      "Original array: [2, 1]\n",
      "Sorted Array: [1, 2]\n"
     ]
    }
   ],
   "source": [
    "def mergeList(arr, lst, lend, rst, rend):\n",
    "    temp = []\n",
    "    i = lst\n",
    "    j = rst\n",
    "\n",
    "    while i <= lend and j <= rend:\n",
    "        if arr[i] < arr[j]:\n",
    "            temp.append(arr[i])\n",
    "            i += 1\n",
    "        else:\n",
    "            temp.append(arr[j])\n",
    "            j += 1\n",
    "\n",
    "    while i <= lend:\n",
    "        temp.append(arr[i])\n",
    "        i += 1\n",
    "\n",
    "    while j <= rend:  # Fixed the condition from lend to rend\n",
    "        temp.append(arr[j])\n",
    "        j += 1\n",
    "\n",
    "    for i in range(lst, rend + 1):\n",
    "        arr[i] = temp[i - lst]\n",
    "\n",
    "\n",
    "def mergesort(arr, left, right):\n",
    "    if left < right:\n",
    "        mid = (left + right) // 2\n",
    "        mergesort(arr, left, mid)\n",
    "        mergesort(arr, mid + 1, right)\n",
    "        mergeList(arr, left, mid, mid + 1, right)  \n",
    "\n",
    "arr = []\n",
    "n = int(input(\"Enter the number of elements: \"))\n",
    "for i in range(n):\n",
    "    arr.append(int(input(f\"Enter element {i + 1}: \")))\n",
    "\n",
    "print(\"Original array:\", arr)\n",
    "mergesort(arr, 0, n - 1)\n",
    "print(\"Sorted Array:\", arr)\n"
   ]
  },
  {
   "cell_type": "code",
   "execution_count": null,
   "id": "9db59499-879e-449c-946b-1e57bc52d21e",
   "metadata": {},
   "outputs": [],
   "source": []
  }
 ],
 "metadata": {
  "kernelspec": {
   "display_name": "Python 3 (ipykernel)",
   "language": "python",
   "name": "python3"
  },
  "language_info": {
   "codemirror_mode": {
    "name": "ipython",
    "version": 3
   },
   "file_extension": ".py",
   "mimetype": "text/x-python",
   "name": "python",
   "nbconvert_exporter": "python",
   "pygments_lexer": "ipython3",
   "version": "3.12.2"
  }
 },
 "nbformat": 4,
 "nbformat_minor": 5
}
