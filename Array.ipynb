{
 "cells": [
  {
   "cell_type": "markdown",
   "id": "89cb4177-4ae8-413c-b928-d8982d6df50d",
   "metadata": {},
   "source": [
    "### Array"
   ]
  },
  {
   "cell_type": "code",
   "execution_count": 4,
   "id": "48655e79-b9fb-4975-b6f4-08d536aee375",
   "metadata": {},
   "outputs": [
    {
     "name": "stdout",
     "output_type": "stream",
     "text": [
      "array('i', [2, 3, 4, 5])\n",
      "2\n"
     ]
    }
   ],
   "source": [
    "from array import *\n",
    "arr=array('i',[2,3,4,5])\n",
    "print(arr)\n",
    "print(arr[0])"
   ]
  },
  {
   "cell_type": "code",
   "execution_count": 5,
   "id": "0c49a350-8e46-4411-b668-e388cb1cde94",
   "metadata": {},
   "outputs": [
    {
     "data": {
      "text/plain": [
       "array('i', [2, 3, 4, 5, 6])"
      ]
     },
     "execution_count": 5,
     "metadata": {},
     "output_type": "execute_result"
    }
   ],
   "source": [
    "arr.insert(4,6)\n",
    "arr"
   ]
  },
  {
   "cell_type": "code",
   "execution_count": 6,
   "id": "b5c77998-a4ff-40de-a7ff-1a5d31efef8a",
   "metadata": {},
   "outputs": [
    {
     "data": {
      "text/plain": [
       "array('i', [2, 3, 5, 6])"
      ]
     },
     "execution_count": 6,
     "metadata": {},
     "output_type": "execute_result"
    }
   ],
   "source": [
    "arr.remove(4)\n",
    "arr"
   ]
  },
  {
   "cell_type": "code",
   "execution_count": 7,
   "id": "b7f6548a-d741-4747-b5be-5b16919168e7",
   "metadata": {},
   "outputs": [
    {
     "data": {
      "text/plain": [
       "2"
      ]
     },
     "execution_count": 7,
     "metadata": {},
     "output_type": "execute_result"
    }
   ],
   "source": [
    "arr.index(5)"
   ]
  },
  {
   "cell_type": "code",
   "execution_count": 8,
   "id": "9f6d9ac9-1bfe-42b3-b75c-4c502b8e4088",
   "metadata": {},
   "outputs": [
    {
     "data": {
      "text/plain": [
       "array('i', [1, 3, 5, 6])"
      ]
     },
     "execution_count": 8,
     "metadata": {},
     "output_type": "execute_result"
    }
   ],
   "source": [
    "arr[0] = 1\n",
    "arr"
   ]
  },
  {
   "cell_type": "code",
   "execution_count": 9,
   "id": "f25d30eb-c11d-4d61-a442-6eb295bc2ba7",
   "metadata": {},
   "outputs": [
    {
     "name": "stdout",
     "output_type": "stream",
     "text": [
      "Minimum: 1 Maximum: 6\n"
     ]
    }
   ],
   "source": [
    "def min_max(arr):\n",
    "    maximum = arr[0]\n",
    "    minimum = arr[0]\n",
    "    for i in arr:\n",
    "        if i > maximum:\n",
    "            maximum = i\n",
    "\n",
    "        if i < minimum:\n",
    "            minimum = i\n",
    "    print(\"Minimum:\", minimum, \"Maximum:\", maximum)\n",
    "min_max(arr)"
   ]
  },
  {
   "cell_type": "markdown",
   "id": "0ba2a467-a0b0-40b6-a3ce-8ccc7f5e609f",
   "metadata": {},
   "source": [
    "### Average"
   ]
  },
  {
   "cell_type": "code",
   "execution_count": 18,
   "id": "604531fc-3b47-4600-8dff-c2ce8018a0b8",
   "metadata": {},
   "outputs": [
    {
     "name": "stdout",
     "output_type": "stream",
     "text": [
      "sum: 40\n",
      "Average: 5.0\n"
     ]
    }
   ],
   "source": [
    "import array as arr\n",
    "x = arr.array('i',[3,5,6,2,7,8,4,5])\n",
    "type(x)\n",
    "x_sum = sum(x)\n",
    "print(\"sum:\", x_sum)\n",
    "length = len(x)\n",
    "average = x_sum/length\n",
    "print(\"Average:\",average)"
   ]
  },
  {
   "cell_type": "markdown",
   "id": "c535af75-d2e8-487a-ac6e-105342464f93",
   "metadata": {},
   "source": [
    "### Reverse"
   ]
  },
  {
   "cell_type": "code",
   "execution_count": 20,
   "id": "72a13c20-aebd-4fbf-9d58-c1e69e781c70",
   "metadata": {},
   "outputs": [
    {
     "name": "stdout",
     "output_type": "stream",
     "text": [
      "array('i', [7, 6, 5, 4, 3, 2])\n"
     ]
    }
   ],
   "source": [
    "a = arr.array('i',[2,3,4,5,6,7])\n",
    "print(a[::-1])"
   ]
  },
  {
   "cell_type": "code",
   "execution_count": 30,
   "id": "3a13c9f3-050a-4c2f-8bce-ec7eea38052b",
   "metadata": {},
   "outputs": [
    {
     "name": "stdout",
     "output_type": "stream",
     "text": [
      "[7, 6, 5, 4, 3, 2]\n"
     ]
    }
   ],
   "source": [
    "a = arr.array('i',[2,3,4,5,6,7])\n",
    "new_arr=[]\n",
    "for i in range(len(a)-1,-1,-1):\n",
    "    new_arr.append(a[i])\n",
    "\n",
    "print(new_arr)"
   ]
  },
  {
   "cell_type": "markdown",
   "id": "46d1f6b3-67b3-4803-b44a-f2ea87a96813",
   "metadata": {},
   "source": [
    "### distninct remove"
   ]
  },
  {
   "cell_type": "code",
   "execution_count": 47,
   "id": "ce8c80dd-4eba-423e-bdba-77d55b3332f8",
   "metadata": {},
   "outputs": [
    {
     "data": {
      "text/plain": [
       "[2, 4, 5, 7, 8, 3]"
      ]
     },
     "execution_count": 47,
     "metadata": {},
     "output_type": "execute_result"
    }
   ],
   "source": [
    "n = arr.array('i',[2,2,4,5,7,8,4,3])\n",
    "def dist_remove(n): \n",
    "    f_arr = []\n",
    "    for i in n:        \n",
    "            if i not in f_arr:\n",
    "                f_arr.append(i)\n",
    "    return f_arr\n",
    "\n",
    "dist_remove(n)"
   ]
  },
  {
   "cell_type": "code",
   "execution_count": 53,
   "id": "969545c1-b1f8-4f47-8e5a-1a418deb1d83",
   "metadata": {},
   "outputs": [
    {
     "name": "stdout",
     "output_type": "stream",
     "text": [
      "[ 2  3  4  5  8 78]\n"
     ]
    }
   ],
   "source": [
    "import numpy as np\n",
    "x = np.array([2,2,4,5,78,8,4,3])\n",
    "x = np.array(list(set(x)))\n",
    "print(x)\n"
   ]
  },
  {
   "cell_type": "code",
   "execution_count": 59,
   "id": "54769559-36f1-42ca-adbb-582fea187c86",
   "metadata": {},
   "outputs": [
    {
     "data": {
      "text/plain": [
       "array([ 2,  3,  4,  5,  8, 78])"
      ]
     },
     "execution_count": 59,
     "metadata": {},
     "output_type": "execute_result"
    }
   ],
   "source": [
    "x = np.array([2,2,4,5,78,8,4,3])\n",
    "def remove_dist(x):\n",
    "    x = np.array(list(set(x)))\n",
    "    return x\n",
    "\n",
    "remove_dist(x)"
   ]
  },
  {
   "cell_type": "markdown",
   "id": "30e9d685-4760-4ac9-9387-cea7c0a6bb67",
   "metadata": {},
   "source": [
    "### find the element  "
   ]
  },
  {
   "cell_type": "code",
   "execution_count": 1,
   "id": "0cd8246d-dfed-45a2-83fd-279430a40acb",
   "metadata": {},
   "outputs": [
    {
     "name": "stdin",
     "output_type": "stream",
     "text": [
      "Enter the element:  6\n"
     ]
    },
    {
     "name": "stdout",
     "output_type": "stream",
     "text": [
      "The index of 6 is 4\n"
     ]
    }
   ],
   "source": [
    "import array\n",
    "\n",
    "def find_index():\n",
    "    a = array.array('i', [2, 3, 4, 5, 6, 7])\n",
    "    n = int(input(\"Enter the element: \"))\n",
    "    try:\n",
    "        index = a.index(n)\n",
    "        print(f\"The index of {n} is {index}\")\n",
    "    except ValueError:\n",
    "        print(-1)\n",
    "\n",
    "find_index()\n"
   ]
  },
  {
   "cell_type": "markdown",
   "id": "860c66cc-bfcc-4995-86c8-ca29dda7eca1",
   "metadata": {},
   "source": [
    "### sum of array elements"
   ]
  },
  {
   "cell_type": "code",
   "execution_count": 4,
   "id": "b4779b6e-d62a-4fe2-af09-06498c637eab",
   "metadata": {},
   "outputs": [
    {
     "name": "stdout",
     "output_type": "stream",
     "text": [
      "21\n"
     ]
    }
   ],
   "source": [
    "import numpy as np \n",
    "x = np.array([2,3,4,5,7])\n",
    "sum = 0    \n",
    "for i in x :\n",
    "        sum +=i\n",
    "\n",
    "print(sum)"
   ]
  },
  {
   "cell_type": "markdown",
   "id": "19bd7691-165a-411b-bc07-7b32ef31cced",
   "metadata": {},
   "source": [
    "### Array intersection"
   ]
  },
  {
   "cell_type": "code",
   "execution_count": 24,
   "id": "778723b3-e926-489e-8c57-9b3918ec45f8",
   "metadata": {},
   "outputs": [
    {
     "name": "stdout",
     "output_type": "stream",
     "text": [
      "[2 3 4 5]\n"
     ]
    }
   ],
   "source": [
    "import numpy as np\n",
    "\n",
    "a1 = np.array([1, 2, 3, 4, 5, 2,3,5,3])\n",
    "a2 = np.array([2, 3, 4, 31,3,5,5,3,3])\n",
    "a3 = []\n",
    "\n",
    "for x in a1:\n",
    "    for j in a2:\n",
    "        if x == j and x not in a3:\n",
    "            a3.append(x)\n",
    "\n",
    "a3 = np.array(a3)\n",
    "print(a3)\n"
   ]
  },
  {
   "cell_type": "markdown",
   "id": "13c3aad5-6a8f-4f71-93a5-c1d903f20b5d",
   "metadata": {},
   "source": [
    "### Rotate an array"
   ]
  },
  {
   "cell_type": "code",
   "execution_count": 28,
   "id": "6b0f779c-005c-41d8-9aa3-6ae7692d5234",
   "metadata": {},
   "outputs": [
    {
     "data": {
      "text/plain": [
       "[1, 2, 3, 4, 5]"
      ]
     },
     "execution_count": 28,
     "metadata": {},
     "output_type": "execute_result"
    }
   ],
   "source": [
    "def rotate_right(d,arr):\n",
    "    n = len(arr)\n",
    "    d = d%n\n",
    "    arr =arr[d:] + arr[d:]\n",
    "    return arr\n",
    "\n",
    "rotate_right(2,[1,2,3,4,5])"
   ]
  },
  {
   "cell_type": "code",
   "execution_count": null,
   "id": "da18b18e-478b-4dcd-9527-c9b898611f85",
   "metadata": {},
   "outputs": [],
   "source": []
  }
 ],
 "metadata": {
  "kernelspec": {
   "display_name": "Python 3 (ipykernel)",
   "language": "python",
   "name": "python3"
  },
  "language_info": {
   "codemirror_mode": {
    "name": "ipython",
    "version": 3
   },
   "file_extension": ".py",
   "mimetype": "text/x-python",
   "name": "python",
   "nbconvert_exporter": "python",
   "pygments_lexer": "ipython3",
   "version": "3.12.2"
  }
 },
 "nbformat": 4,
 "nbformat_minor": 5
}
