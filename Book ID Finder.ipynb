{
 "cells": [
  {
   "cell_type": "markdown",
   "id": "a4eb7544-fae9-4133-a2b9-44f26e186263",
   "metadata": {},
   "source": [
    "## Using lienar and bianry search"
   ]
  },
  {
   "cell_type": "code",
   "execution_count": 1,
   "id": "556cbb02-cd5c-40f3-a302-3409aeef6e82",
   "metadata": {},
   "outputs": [
    {
     "name": "stdout",
     "output_type": "stream",
     "text": [
      "Book IDs in library (unsorted):\n",
      "[4197, 9082, 8870, 6618, 3778, 8950, 9033, 3527, 6953, 3605, 7061, 7596, 1909, 1224, 4690, 4749, 6078, 2375, 2976, 4844]\n"
     ]
    },
    {
     "name": "stdin",
     "output_type": "stream",
     "text": [
      "\n",
      "Enter the Book ID to search:  3527\n"
     ]
    },
    {
     "name": "stdout",
     "output_type": "stream",
     "text": [
      "\n",
      "--- Search Results ---\n",
      "Linear Search: Found in 8 steps.\n",
      "Binary Search: Found in 2 steps.\n",
      "\n",
      "Sorted Book IDs (for Binary Search):\n",
      "[1224, 1909, 2375, 2976, 3527, 3605, 3778, 4197, 4690, 4749, 4844, 6078, 6618, 6953, 7061, 7596, 8870, 8950, 9033, 9082]\n"
     ]
    }
   ],
   "source": [
    "import random\n",
    "\n",
    "# Generate a list of random book IDs\n",
    "book_ids = random.sample(range(1000, 9999), 20)  # 20 unique random IDs\n",
    "print(\"Book IDs in library (unsorted):\")\n",
    "print(book_ids)\n",
    "\n",
    "# User input\n",
    "target = int(input(\"\\nEnter the Book ID to search: \"))\n",
    "\n",
    "# Linear Search\n",
    "def linear_search(arr, target):\n",
    "    steps = 0\n",
    "    for i in range(len(arr)):\n",
    "        steps += 1\n",
    "        if arr[i] == target:\n",
    "            return True, steps\n",
    "    return False, steps\n",
    "\n",
    "# Binary Search\n",
    "def binary_search(arr, target):\n",
    "    low = 0\n",
    "    high = len(arr) - 1\n",
    "    steps = 0\n",
    "    while low <= high:\n",
    "        steps += 1\n",
    "        mid = (low + high) // 2\n",
    "        if arr[mid] == target:\n",
    "            return True, steps\n",
    "        elif arr[mid] < target:\n",
    "            low = mid + 1\n",
    "        else:\n",
    "            high = mid - 1\n",
    "    return False, steps\n",
    "\n",
    "# Run linear search\n",
    "found_linear, steps_linear = linear_search(book_ids, target)\n",
    "\n",
    "# Sort list for binary search\n",
    "sorted_ids = sorted(book_ids)\n",
    "found_binary, steps_binary = binary_search(sorted_ids, target)\n",
    "\n",
    "# Output\n",
    "print(\"\\n--- Search Results ---\")\n",
    "print(f\"Linear Search: {'Found' if found_linear else 'Not Found'} in {steps_linear} steps.\")\n",
    "print(f\"Binary Search: {'Found' if found_binary else 'Not Found'} in {steps_binary} steps.\")\n",
    "print(\"\\nSorted Book IDs (for Binary Search):\")\n",
    "print(sorted_ids)"
   ]
  },
  {
   "cell_type": "code",
   "execution_count": null,
   "id": "6176c631-d4a5-4dfc-aefe-b543c1205cbe",
   "metadata": {},
   "outputs": [],
   "source": []
  }
 ],
 "metadata": {
  "kernelspec": {
   "display_name": "Python 3 (ipykernel)",
   "language": "python",
   "name": "python3"
  },
  "language_info": {
   "codemirror_mode": {
    "name": "ipython",
    "version": 3
   },
   "file_extension": ".py",
   "mimetype": "text/x-python",
   "name": "python",
   "nbconvert_exporter": "python",
   "pygments_lexer": "ipython3",
   "version": "3.12.2"
  }
 },
 "nbformat": 4,
 "nbformat_minor": 5
}
