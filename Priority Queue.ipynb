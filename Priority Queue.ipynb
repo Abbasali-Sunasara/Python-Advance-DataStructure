{
 "cells": [
  {
   "cell_type": "code",
   "execution_count": null,
   "id": "81e70878-9b53-4a53-94b8-950387e6498c",
   "metadata": {},
   "outputs": [
    {
     "name": "stdout",
     "output_type": "stream",
     "text": [
      "\n",
      "Program to implement priority queue\n",
      "1. Enqueue\n",
      "2. Dequeue\n",
      "3. Peek\n",
      "4. Display\n",
      "5. Exit\n"
     ]
    },
    {
     "name": "stdin",
     "output_type": "stream",
     "text": [
      "Enter your choice:  1\n",
      "Enter the Data:  10\n",
      "Enter priority value:  3\n"
     ]
    },
    {
     "name": "stdout",
     "output_type": "stream",
     "text": [
      "\n",
      "Program to implement priority queue\n",
      "1. Enqueue\n",
      "2. Dequeue\n",
      "3. Peek\n",
      "4. Display\n",
      "5. Exit\n"
     ]
    },
    {
     "name": "stdin",
     "output_type": "stream",
     "text": [
      "Enter your choice:  1\n",
      "Enter the Data:  20\n",
      "Enter priority value:  2\n"
     ]
    },
    {
     "name": "stdout",
     "output_type": "stream",
     "text": [
      "\n",
      "Program to implement priority queue\n",
      "1. Enqueue\n",
      "2. Dequeue\n",
      "3. Peek\n",
      "4. Display\n",
      "5. Exit\n"
     ]
    },
    {
     "name": "stdin",
     "output_type": "stream",
     "text": [
      "Enter your choice:  1\n",
      "Enter the Data:  30\n",
      "Enter priority value:  1\n"
     ]
    },
    {
     "name": "stdout",
     "output_type": "stream",
     "text": [
      "\n",
      "Program to implement priority queue\n",
      "1. Enqueue\n",
      "2. Dequeue\n",
      "3. Peek\n",
      "4. Display\n",
      "5. Exit\n"
     ]
    },
    {
     "name": "stdin",
     "output_type": "stream",
     "text": [
      "Enter your choice:  4\n"
     ]
    },
    {
     "name": "stdout",
     "output_type": "stream",
     "text": [
      "|  10(3) |  20(2) |  30(1) |\n",
      "\n",
      "Program to implement priority queue\n",
      "1. Enqueue\n",
      "2. Dequeue\n",
      "3. Peek\n",
      "4. Display\n",
      "5. Exit\n"
     ]
    },
    {
     "name": "stdin",
     "output_type": "stream",
     "text": [
      "Enter your choice:  3\n"
     ]
    },
    {
     "name": "stdout",
     "output_type": "stream",
     "text": [
      "Item at the front of the queue: 10 With priority 3\n",
      "\n",
      "Program to implement priority queue\n",
      "1. Enqueue\n",
      "2. Dequeue\n",
      "3. Peek\n",
      "4. Display\n",
      "5. Exit\n"
     ]
    }
   ],
   "source": [
    "class Node:\n",
    "    def __init__(self, Newdata, Newpriority):\n",
    "        self.data = Newdata\n",
    "        self.priority = Newpriority\n",
    "\n",
    "class PriorityQueue:\n",
    "    def __init__(self):\n",
    "        self.items = []\n",
    "\n",
    "    def isempty(self):\n",
    "        return self.items == []\n",
    "\n",
    "    def enqueue(self, item):\n",
    "        for i in range(len(self.items)):\n",
    "            if item.priority >= self.items[i].priority:\n",
    "                self.items.insert(i, item)\n",
    "                break\n",
    "        else:\n",
    "            self.items.append(item)\n",
    "\n",
    "    def dequeue(self):\n",
    "        if not self.isempty():\n",
    "            return self.items.pop(0)\n",
    "\n",
    "    def peek(self):\n",
    "        if not self.isempty():\n",
    "            return self.items[0]\n",
    "\n",
    "    def size(self):\n",
    "        return len(self.items)\n",
    "\n",
    "    def display(self):\n",
    "        for item in self.items:\n",
    "            print('|', format(str(item.data) + \"(\" + str(item.priority) + \")\", '>6'), end=\" \")\n",
    "        print(\"|\")\n",
    "\n",
    "q = PriorityQueue()\n",
    "\n",
    "while True:\n",
    "    print(\"\\nProgram to implement priority queue\")\n",
    "    print(\"1. Enqueue\")\n",
    "    print(\"2. Dequeue\")\n",
    "    print(\"3. Peek\")\n",
    "    print(\"4. Display\")\n",
    "    print(\"5. Exit\")\n",
    "\n",
    "    choice = int(input(\"Enter your choice: \"))\n",
    "\n",
    "    if choice == 1:\n",
    "        num = int(input(\"Enter the Data: \"))\n",
    "        prio = int(input(\"Enter priority value: \"))\n",
    "        NewNode = Node(num, prio)\n",
    "        q.enqueue(NewNode)\n",
    "\n",
    "    elif choice == 2:\n",
    "        if q.isempty():\n",
    "            print(\"Queue Underflow!\")\n",
    "        else:\n",
    "            popNode = q.dequeue()\n",
    "            print(\"Item dequeued:\", popNode.data, \"With priority\", popNode.priority)\n",
    "\n",
    "    elif choice == 3:\n",
    "        if q.isempty():\n",
    "            print(\"Queue Underflow!\")\n",
    "        else:\n",
    "            popNode = q.peek()\n",
    "            print(\"Item at the front of the queue:\", popNode.data, \"With priority\", popNode.priority)\n",
    "\n",
    "    elif choice == 4:\n",
    "        if q.isempty():\n",
    "            print(\"Queue is empty\")\n",
    "        else:\n",
    "            q.display()\n",
    "\n",
    "    elif choice == 5:\n",
    "        print(\"Quitting....\")\n",
    "        break\n",
    "\n",
    "    else:\n",
    "        print(\"Invalid choice! Please enter a valid choice.\")\n"
   ]
  },
  {
   "cell_type": "code",
   "execution_count": null,
   "id": "cc4eb055-a22f-4f03-b7e0-f34861842199",
   "metadata": {},
   "outputs": [],
   "source": [
    "\n"
   ]
  }
 ],
 "metadata": {
  "kernelspec": {
   "display_name": "Python 3 (ipykernel)",
   "language": "python",
   "name": "python3"
  },
  "language_info": {
   "codemirror_mode": {
    "name": "ipython",
    "version": 3
   },
   "file_extension": ".py",
   "mimetype": "text/x-python",
   "name": "python",
   "nbconvert_exporter": "python",
   "pygments_lexer": "ipython3",
   "version": "3.12.2"
  }
 },
 "nbformat": 4,
 "nbformat_minor": 5
}
