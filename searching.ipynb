{
 "cells": [
  {
   "cell_type": "markdown",
   "id": "f0c03d0e-8cf9-4b9f-a5e1-a5d9a6438200",
   "metadata": {},
   "source": [
    "### Linear Search"
   ]
  },
  {
   "cell_type": "code",
   "execution_count": null,
   "id": "fa43d8ad-249b-4166-b8eb-2deb4b9c1cc3",
   "metadata": {},
   "outputs": [],
   "source": [
    "li=[12,4,3,25,29,30,15]\n",
    "element = int(input(\"Enter the element you want to search: \"))\n",
    "\n",
    "def linear_search(element, li):\n",
    "    index = 0\n",
    "    while index < len(li):\n",
    "        if li[index] == element:\n",
    "            return index\n",
    "        index += 1\n",
    "    return -1  \n",
    "\n",
    "position = linear_search(element, li)  \n",
    "print(position)\n"
   ]
  },
  {
   "cell_type": "markdown",
   "id": "886067bb-b08e-4d4f-a804-9fca94fbb3fd",
   "metadata": {},
   "source": [
    "### Binary Search"
   ]
  },
  {
   "cell_type": "code",
   "execution_count": null,
   "id": "6bea417a-2c08-4820-9942-902be25e3253",
   "metadata": {},
   "outputs": [],
   "source": [
    "li = [10, 20, 30, 40, 50]\n",
    "element = int(input(\"Enter the element to search: \"))\n",
    "\n",
    "def binary_search(li, element):\n",
    "    l = 0\n",
    "    h = len(li) - 1\n",
    "\n",
    "    while l <= h:\n",
    "        m = (l + h) // 2\n",
    "        if element == li[m]:\n",
    "            return m\n",
    "        elif element < li[m]:\n",
    "            h = m - 1\n",
    "        else:\n",
    "            l = m + 1\n",
    "    return -1\n",
    "\n",
    "position = binary_search(li, element)\n",
    "print(\"Index position:-\",position)\n"
   ]
  },
  {
   "cell_type": "markdown",
   "id": "371381e3-a177-471f-8619-26f563467491",
   "metadata": {},
   "source": [
    "### find unique elements (linear search)"
   ]
  },
  {
   "cell_type": "code",
   "execution_count": 1,
   "id": "2aed00c7-b985-4d4d-be14-cde21d1a1ef4",
   "metadata": {},
   "outputs": [
    {
     "name": "stdout",
     "output_type": "stream",
     "text": [
      "[2, 1, 67, 23, 88]\n"
     ]
    }
   ],
   "source": [
    "li = [4,5,2,1,34,67,34,23,34,5,4,88]\n",
    "n = len(li)\n",
    "\n",
    "def linear_search(li, n):\n",
    "    dli = []\n",
    "\n",
    "    for i in range(n):\n",
    "        found_duplicate = 0  \n",
    "\n",
    "        for j in range(n):\n",
    "            if li[i] == li[j]:  \n",
    "                found_duplicate += 1  \n",
    "        \n",
    "        if found_duplicate == 1: \n",
    "            dli.append(li[i])\n",
    "\n",
    "    print(dli)\n",
    "\n",
    "linear_search(li, n)\n"
   ]
  },
  {
   "cell_type": "code",
   "execution_count": null,
   "id": "d0c9e152-dbc6-4d01-87e4-9a539be9cc6d",
   "metadata": {},
   "outputs": [],
   "source": []
  },
  {
   "cell_type": "code",
   "execution_count": null,
   "id": "605f19b6-a063-41f6-9ebf-022bef7f05c9",
   "metadata": {},
   "outputs": [],
   "source": []
  }
 ],
 "metadata": {
  "kernelspec": {
   "display_name": "Python 3 (ipykernel)",
   "language": "python",
   "name": "python3"
  },
  "language_info": {
   "codemirror_mode": {
    "name": "ipython",
    "version": 3
   },
   "file_extension": ".py",
   "mimetype": "text/x-python",
   "name": "python",
   "nbconvert_exporter": "python",
   "pygments_lexer": "ipython3",
   "version": "3.12.2"
  }
 },
 "nbformat": 4,
 "nbformat_minor": 5
}
