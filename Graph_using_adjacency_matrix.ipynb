{
 "cells": [
  {
   "cell_type": "code",
   "execution_count": 5,
   "id": "c0d16235-39ab-457d-a52e-04616919097f",
   "metadata": {},
   "outputs": [
    {
     "name": "stdout",
     "output_type": "stream",
     "text": [
      "\n",
      " Program to implement graph using adjacency matrix\n",
      "1. Insert a vertex\n",
      "2. Insert a edge\n",
      "3. Remove a vertex\n",
      "4. Remove an edge\n",
      "5. Display\n",
      "6. Exit\n"
     ]
    },
    {
     "name": "stdin",
     "output_type": "stream",
     "text": [
      "Enter your choice 1\n"
     ]
    },
    {
     "name": "stdout",
     "output_type": "stream",
     "text": [
      "Vertex inserted successfully.\n",
      "\n",
      " Program to implement graph using adjacency matrix\n",
      "1. Insert a vertex\n",
      "2. Insert a edge\n",
      "3. Remove a vertex\n",
      "4. Remove an edge\n",
      "5. Display\n",
      "6. Exit\n"
     ]
    },
    {
     "name": "stdin",
     "output_type": "stream",
     "text": [
      "Enter your choice 1\n"
     ]
    },
    {
     "name": "stdout",
     "output_type": "stream",
     "text": [
      "Vertex inserted successfully.\n",
      "\n",
      " Program to implement graph using adjacency matrix\n",
      "1. Insert a vertex\n",
      "2. Insert a edge\n",
      "3. Remove a vertex\n",
      "4. Remove an edge\n",
      "5. Display\n",
      "6. Exit\n"
     ]
    },
    {
     "name": "stdin",
     "output_type": "stream",
     "text": [
      "Enter your choice 5\n"
     ]
    },
    {
     "name": "stdout",
     "output_type": "stream",
     "text": [
      "v0| 0 0 |\n",
      "v1| 0 0 |\n",
      "\n",
      " Program to implement graph using adjacency matrix\n",
      "1. Insert a vertex\n",
      "2. Insert a edge\n",
      "3. Remove a vertex\n",
      "4. Remove an edge\n",
      "5. Display\n",
      "6. Exit\n"
     ]
    },
    {
     "name": "stdin",
     "output_type": "stream",
     "text": [
      "Enter your choice 6\n"
     ]
    },
    {
     "name": "stdout",
     "output_type": "stream",
     "text": [
      "Exiting program.\n"
     ]
    }
   ],
   "source": [
    "class Graph:\n",
    "    def __init__(self,size=0):\n",
    "        self.size = size\n",
    "        self.items = [[0 for i in range(size)] for j in range(size)]\n",
    "\n",
    "    def isempty(self):\n",
    "        return self.size == 0\n",
    "\n",
    "    def insert_vertex(self):\n",
    "        for i in range(self.size):\n",
    "            self.items[i].append(0)\n",
    "        self.items.append([0 for i in range (self.size + 1)])\n",
    "        self.size += 1\n",
    "\n",
    "    def insert_edge(self,vi,vj):\n",
    "        if vi >=self.size or vj >= self.size:\n",
    "            print(\"Inavlid vertex index\")\n",
    "            return\n",
    "        self.items[vi][vj] = 1\n",
    "        self.items[vi][vj] = 1\n",
    "\n",
    "    def delete_vertex(self,v):\n",
    "        if v>= self.size:\n",
    "            print(\"vertex not found\")\n",
    "            return\n",
    "        for i in range(self.size):\n",
    "            del self.items[i][v]\n",
    "        del self.items[v]\n",
    "        self.size -= 1\n",
    "        print(\"vertex removed\")\n",
    "\n",
    "    def delete_edge(self,vi,vj):\n",
    "        if vi>= self.size or vj>=self.size:\n",
    "            print(\"vertex not found..\")\n",
    "            return\n",
    "        self.items[vi][vj] = 0\n",
    "        self.items[vi][vj] = 0\n",
    "        print(\"Edge removed!\")\n",
    "\n",
    "    def display(self):\n",
    "        for i in range(self.size):\n",
    "            print(\"v{}|\".format(i),end=\" \")\n",
    "            for j in range(self.size):\n",
    "                print(self.items[i][j],end=\" \")\n",
    "            print(\"|\")\n",
    "\n",
    "g = Graph()\n",
    "while True:\n",
    "    print(\"\\n Program to implement graph using adjacency matrix\")\n",
    "    print(\"1. Insert a vertex\")\n",
    "    print(\"2. Insert a edge\")\n",
    "    print(\"3. Remove a vertex\")\n",
    "    print(\"4. Remove an edge\")\n",
    "    print(\"5. Display\")\n",
    "    print(\"6. Exit\")\n",
    "    choice = int(input(\"Enter your choice\"))\n",
    "    if choice == 1:\n",
    "        g.insert_vertex()\n",
    "        print(\"Vertex inserted successfully.\")\n",
    "\n",
    "    elif choice == 2:\n",
    "        vi = int(input(\"Enter source vertex index: \"))\n",
    "        vj = int(input(\"Enter destination vertex index: \"))\n",
    "        g.insert_edge(vi, vj)\n",
    "\n",
    "    elif choice == 3:\n",
    "        v = int(input(\"Enter vertex index to delete: \"))\n",
    "        g.delete_vertex(v)\n",
    "\n",
    "    elif choice == 4:\n",
    "        vi = int(input(\"Enter source vertex index: \"))\n",
    "        vj = int(input(\"Enter destination vertex index: \"))\n",
    "        g.delete_edge(vi, vj)\n",
    "\n",
    "    elif choice == 5:\n",
    "        g.display()\n",
    "\n",
    "    elif choice == 6:\n",
    "        print(\"Exiting program.\")\n",
    "        break\n",
    "\n",
    "    else:\n",
    "        print(\"Invalid choice! Please enter a number between 1 and 7.\")"
   ]
  },
  {
   "cell_type": "code",
   "execution_count": null,
   "id": "8c9881b4-14d4-44e5-8abe-7cc4a6c3552e",
   "metadata": {},
   "outputs": [],
   "source": []
  }
 ],
 "metadata": {
  "kernelspec": {
   "display_name": "Python 3 (ipykernel)",
   "language": "python",
   "name": "python3"
  },
  "language_info": {
   "codemirror_mode": {
    "name": "ipython",
    "version": 3
   },
   "file_extension": ".py",
   "mimetype": "text/x-python",
   "name": "python",
   "nbconvert_exporter": "python",
   "pygments_lexer": "ipython3",
   "version": "3.12.2"
  }
 },
 "nbformat": 4,
 "nbformat_minor": 5
}
