{
 "cells": [
  {
   "cell_type": "markdown",
   "id": "fea7a4ab-f47b-4613-8ea8-df6d6dab871a",
   "metadata": {},
   "source": [
    "### 1 reverse string"
   ]
  },
  {
   "cell_type": "code",
   "execution_count": 19,
   "id": "6a41388f-4fd4-419b-aa41-cf2d6eeefb4d",
   "metadata": {},
   "outputs": [
    {
     "name": "stdin",
     "output_type": "stream",
     "text": [
      "Enter the string ABCDEFGHIJKLMNOPQRSTUVWXYZ\n"
     ]
    },
    {
     "name": "stdout",
     "output_type": "stream",
     "text": [
      "ZYXWVUTSRQPONMLKJIHGFEDCBA\n"
     ]
    }
   ],
   "source": [
    "class Stack:\n",
    "    def __init__(self):\n",
    "        self.items = []\n",
    "\n",
    "    def is_empty(self):\n",
    "        return len(self.items) == 0\n",
    "    \n",
    "    def push(self,elem):\n",
    "        self.items.append(elem)\n",
    "\n",
    "    def pop(self):\n",
    "        if not self.is_empty():\n",
    "            return self.items.pop()\n",
    "        return None\n",
    "    \n",
    "def reversed_string(s):\n",
    "    stack = Stack()\n",
    "    for char in s :\n",
    "        stack.push(char)\n",
    "\n",
    "    reversed_str=\"\"\n",
    "    while not stack.is_empty():\n",
    "        reversed_str += stack.pop()\n",
    "\n",
    "    return reversed_str\n",
    "\n",
    "s = input(\"Enter the string\")\n",
    "print(reversed_string(s))\n",
    "\n"
   ]
  },
  {
   "cell_type": "markdown",
   "id": "cd08a114-6ab9-4685-85e6-3a049a251e6a",
   "metadata": {},
   "source": [
    "### 2 stack sort Alogorithm"
   ]
  },
  {
   "cell_type": "code",
   "execution_count": null,
   "id": "45afb957-8dc2-4cbf-8c4b-b6425fd35bc4",
   "metadata": {},
   "outputs": [],
   "source": []
  }
 ],
 "metadata": {
  "kernelspec": {
   "display_name": "Python 3 (ipykernel)",
   "language": "python",
   "name": "python3"
  },
  "language_info": {
   "codemirror_mode": {
    "name": "ipython",
    "version": 3
   },
   "file_extension": ".py",
   "mimetype": "text/x-python",
   "name": "python",
   "nbconvert_exporter": "python",
   "pygments_lexer": "ipython3",
   "version": "3.12.2"
  }
 },
 "nbformat": 4,
 "nbformat_minor": 5
}
